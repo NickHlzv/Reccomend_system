{
 "cells": [
  {
   "cell_type": "markdown",
   "metadata": {
    "id": "5yNCT1cA4hbZ"
   },
   "source": [
    "# Вебинар 2. Бейзлайны и детерминированные алгоритмы item-item"
   ]
  },
  {
   "cell_type": "markdown",
   "metadata": {
    "id": "RPcALyL54hbc"
   },
   "source": [
    "![recsys_types.png](attachment:recsys_types.png)"
   ]
  },
  {
   "cell_type": "code",
   "execution_count": 1,
   "metadata": {
    "colab": {
     "base_uri": "https://localhost:8080/"
    },
    "id": "J0OAsmCO4hbd",
    "outputId": "6576537c-29cb-416c-f263-dcc4330c6df0"
   },
   "outputs": [
    {
     "name": "stdout",
     "output_type": "stream",
     "text": [
      "Requirement already satisfied: implicit==0.4.4 in c:\\users\\nikit\\.conda\\envs\\reccomend_system\\lib\\site-packages (0.4.4)\n",
      "Requirement already satisfied: numpy in c:\\users\\nikit\\.conda\\envs\\reccomend_system\\lib\\site-packages (from implicit==0.4.4) (1.22.3)\n",
      "Requirement already satisfied: tqdm>=4.27 in c:\\users\\nikit\\.conda\\envs\\reccomend_system\\lib\\site-packages (from implicit==0.4.4) (4.64.0)\n",
      "Requirement already satisfied: scipy>=0.16 in c:\\users\\nikit\\.conda\\envs\\reccomend_system\\lib\\site-packages (from implicit==0.4.4) (1.8.0)\n",
      "Requirement already satisfied: colorama in c:\\users\\nikit\\.conda\\envs\\reccomend_system\\lib\\site-packages (from tqdm>=4.27->implicit==0.4.4) (0.4.4)\n"
     ]
    }
   ],
   "source": [
    "!pip install implicit==0.4.4"
   ]
  },
  {
   "cell_type": "markdown",
   "metadata": {
    "id": "UWL03gAN4hbf"
   },
   "source": [
    "[Implicit](https://implicit.readthedocs.io/en/latest/quickstart.html) - очень быстрая и \n",
    "эффективная библиотека для рекоммендаций\n",
    "\n",
    "Основные фичи:\n",
    "    - Cython под капотом - высокая скорость\n",
    "    - Множество приближенных алгоритмов - быстрее, чем оригинальные\n",
    "    - Содежрит большинство популярных алгоритмов\n",
    "    - Есть алгоритмы ранжирования\n",
    "    - Поиск похожих товаров / юзеров\n",
    "    - Есть возможность пересчета \"холодного\" юзера \"на лету\"\n",
    "    - Возможность фильтровать товары при рекомендациях (Например, не рекомендовать женские товары мужчинам)\n",
    "    - Есть метрики качества"
   ]
  },
  {
   "cell_type": "markdown",
   "metadata": {
    "id": "2CjZEAro4hbg"
   },
   "source": [
    "# Подготовка данных"
   ]
  },
  {
   "cell_type": "code",
   "execution_count": 1,
   "metadata": {
    "id": "QUYyS8Tg4hbh"
   },
   "outputs": [],
   "source": [
    ""
   ]
  },
  {
   "cell_type": "code",
   "execution_count": 2,
   "metadata": {
    "id": "KOJj_2Sh4hbh"
   },
   "outputs": [],
   "source": [
    "import pandas as pd\n",
    "import numpy as np\n",
    "import matplotlib.pyplot as plt\n",
    "%matplotlib inline\n",
    "\n",
    "# Для работы с матрицами\n",
    "from scipy.sparse import csr_matrix, coo_matrix\n",
    "\n",
    "# Детерминированные алгоритмы\n",
    "from implicit.nearest_neighbours import ItemItemRecommender, CosineRecommender, TFIDFRecommender\n",
    "\n",
    "# Метрики\n",
    "from implicit.evaluation import train_test_split\n",
    "from implicit.evaluation import precision_at_k, mean_average_precision_at_k, AUC_at_k, ndcg_at_k"
   ]
  },
  {
   "cell_type": "code",
   "execution_count": 3,
   "metadata": {
    "colab": {
     "base_uri": "https://localhost:8080/",
     "height": 206
    },
    "id": "X2WhCTxJ4hbi",
    "outputId": "f4e1af2d-293a-42a7-f588-f898636abfb6"
   },
   "outputs": [
    {
     "data": {
      "text/plain": "   user_id    basket_id  day  item_id  quantity  sales_value  store_id  \\\n0     2375  26984851472    1  1004906         1         1.39       364   \n1     2375  26984851472    1  1033142         1         0.82       364   \n2     2375  26984851472    1  1036325         1         0.99       364   \n3     2375  26984851472    1  1082185         1         1.21       364   \n4     2375  26984851472    1  8160430         1         1.50       364   \n\n   retail_disc  trans_time  week_no  coupon_disc  coupon_match_disc  \n0        -0.60        1631        1          0.0                0.0  \n1         0.00        1631        1          0.0                0.0  \n2        -0.30        1631        1          0.0                0.0  \n3         0.00        1631        1          0.0                0.0  \n4        -0.39        1631        1          0.0                0.0  ",
      "text/html": "<div>\n<style scoped>\n    .dataframe tbody tr th:only-of-type {\n        vertical-align: middle;\n    }\n\n    .dataframe tbody tr th {\n        vertical-align: top;\n    }\n\n    .dataframe thead th {\n        text-align: right;\n    }\n</style>\n<table border=\"1\" class=\"dataframe\">\n  <thead>\n    <tr style=\"text-align: right;\">\n      <th></th>\n      <th>user_id</th>\n      <th>basket_id</th>\n      <th>day</th>\n      <th>item_id</th>\n      <th>quantity</th>\n      <th>sales_value</th>\n      <th>store_id</th>\n      <th>retail_disc</th>\n      <th>trans_time</th>\n      <th>week_no</th>\n      <th>coupon_disc</th>\n      <th>coupon_match_disc</th>\n    </tr>\n  </thead>\n  <tbody>\n    <tr>\n      <th>0</th>\n      <td>2375</td>\n      <td>26984851472</td>\n      <td>1</td>\n      <td>1004906</td>\n      <td>1</td>\n      <td>1.39</td>\n      <td>364</td>\n      <td>-0.60</td>\n      <td>1631</td>\n      <td>1</td>\n      <td>0.0</td>\n      <td>0.0</td>\n    </tr>\n    <tr>\n      <th>1</th>\n      <td>2375</td>\n      <td>26984851472</td>\n      <td>1</td>\n      <td>1033142</td>\n      <td>1</td>\n      <td>0.82</td>\n      <td>364</td>\n      <td>0.00</td>\n      <td>1631</td>\n      <td>1</td>\n      <td>0.0</td>\n      <td>0.0</td>\n    </tr>\n    <tr>\n      <th>2</th>\n      <td>2375</td>\n      <td>26984851472</td>\n      <td>1</td>\n      <td>1036325</td>\n      <td>1</td>\n      <td>0.99</td>\n      <td>364</td>\n      <td>-0.30</td>\n      <td>1631</td>\n      <td>1</td>\n      <td>0.0</td>\n      <td>0.0</td>\n    </tr>\n    <tr>\n      <th>3</th>\n      <td>2375</td>\n      <td>26984851472</td>\n      <td>1</td>\n      <td>1082185</td>\n      <td>1</td>\n      <td>1.21</td>\n      <td>364</td>\n      <td>0.00</td>\n      <td>1631</td>\n      <td>1</td>\n      <td>0.0</td>\n      <td>0.0</td>\n    </tr>\n    <tr>\n      <th>4</th>\n      <td>2375</td>\n      <td>26984851472</td>\n      <td>1</td>\n      <td>8160430</td>\n      <td>1</td>\n      <td>1.50</td>\n      <td>364</td>\n      <td>-0.39</td>\n      <td>1631</td>\n      <td>1</td>\n      <td>0.0</td>\n      <td>0.0</td>\n    </tr>\n  </tbody>\n</table>\n</div>"
     },
     "execution_count": 3,
     "metadata": {},
     "output_type": "execute_result"
    }
   ],
   "source": [
    "data = pd.read_csv('data/retail_train.csv')\n",
    "data.head()"
   ]
  },
  {
   "cell_type": "code",
   "execution_count": 4,
   "metadata": {
    "colab": {
     "base_uri": "https://localhost:8080/"
    },
    "id": "Uj7WaQGu4hbi",
    "outputId": "d951faaf-1ab3-4f55-854b-beafe026b57b"
   },
   "outputs": [
    {
     "data": {
      "text/plain": "95"
     },
     "execution_count": 4,
     "metadata": {},
     "output_type": "execute_result"
    }
   ],
   "source": [
    "data['week_no'].nunique()"
   ]
  },
  {
   "cell_type": "code",
   "execution_count": 5,
   "metadata": {
    "colab": {
     "base_uri": "https://localhost:8080/"
    },
    "id": "WYiGsBpu4hbi",
    "outputId": "0c62ed6a-0c03-42fc-b773-78796ce7ca91"
   },
   "outputs": [
    {
     "name": "stdout",
     "output_type": "stream",
     "text": [
      "# users:  2499\n",
      "# items:  89051\n",
      "# interactions:  2396804\n"
     ]
    }
   ],
   "source": [
    "users, items, interactions = data.user_id.nunique(), data.item_id.nunique(), data.shape[0]\n",
    "\n",
    "print('# users: ', users)\n",
    "print('# items: ', items)\n",
    "print('# interactions: ', interactions)"
   ]
  },
  {
   "cell_type": "code",
   "execution_count": 6,
   "metadata": {
    "colab": {
     "base_uri": "https://localhost:8080/",
     "height": 300
    },
    "id": "Hze4QGl94hbj",
    "outputId": "63f00ba0-a51d-41c0-ec3f-91576d11590f"
   },
   "outputs": [
    {
     "data": {
      "text/plain": "            item_id    sales_value\ncount  8.905100e+04   89051.000000\nmean   5.115772e+06      83.458481\nstd    5.178973e+06    1628.715079\nmin    2.567100e+04       0.000000\n25%    9.665830e+05       3.500000\n50%    1.448516e+06      10.780000\n75%    9.553042e+06      46.105000\nmax    1.802456e+07  467993.620000",
      "text/html": "<div>\n<style scoped>\n    .dataframe tbody tr th:only-of-type {\n        vertical-align: middle;\n    }\n\n    .dataframe tbody tr th {\n        vertical-align: top;\n    }\n\n    .dataframe thead th {\n        text-align: right;\n    }\n</style>\n<table border=\"1\" class=\"dataframe\">\n  <thead>\n    <tr style=\"text-align: right;\">\n      <th></th>\n      <th>item_id</th>\n      <th>sales_value</th>\n    </tr>\n  </thead>\n  <tbody>\n    <tr>\n      <th>count</th>\n      <td>8.905100e+04</td>\n      <td>89051.000000</td>\n    </tr>\n    <tr>\n      <th>mean</th>\n      <td>5.115772e+06</td>\n      <td>83.458481</td>\n    </tr>\n    <tr>\n      <th>std</th>\n      <td>5.178973e+06</td>\n      <td>1628.715079</td>\n    </tr>\n    <tr>\n      <th>min</th>\n      <td>2.567100e+04</td>\n      <td>0.000000</td>\n    </tr>\n    <tr>\n      <th>25%</th>\n      <td>9.665830e+05</td>\n      <td>3.500000</td>\n    </tr>\n    <tr>\n      <th>50%</th>\n      <td>1.448516e+06</td>\n      <td>10.780000</td>\n    </tr>\n    <tr>\n      <th>75%</th>\n      <td>9.553042e+06</td>\n      <td>46.105000</td>\n    </tr>\n    <tr>\n      <th>max</th>\n      <td>1.802456e+07</td>\n      <td>467993.620000</td>\n    </tr>\n  </tbody>\n</table>\n</div>"
     },
     "execution_count": 6,
     "metadata": {},
     "output_type": "execute_result"
    }
   ],
   "source": [
    "popularity = data.groupby('item_id')['sales_value'].sum().reset_index()\n",
    "popularity.describe()"
   ]
  },
  {
   "cell_type": "markdown",
   "metadata": {
    "id": "9KgDiw8e4hbj"
   },
   "source": [
    "**Note:**  \n",
    "Еще есть данные по характеристикам товаров и пользователей. Они нам пригодятся через несколько вебинаров"
   ]
  },
  {
   "cell_type": "code",
   "execution_count": 7,
   "metadata": {
    "colab": {
     "base_uri": "https://localhost:8080/",
     "height": 206
    },
    "id": "332qPS3N4hbk",
    "outputId": "13cd669a-ec84-408a-d1ee-b2f06e36447a"
   },
   "outputs": [
    {
     "data": {
      "text/plain": "   PRODUCT_ID  MANUFACTURER    DEPARTMENT     BRAND            COMMODITY_DESC  \\\n0       25671             2       GROCERY  National                  FRZN ICE   \n1       26081             2  MISC. TRANS.  National  NO COMMODITY DESCRIPTION   \n2       26093            69        PASTRY   Private                     BREAD   \n3       26190            69       GROCERY   Private      FRUIT - SHELF STABLE   \n4       26355            69       GROCERY   Private             COOKIES/CONES   \n\n            SUB_COMMODITY_DESC CURR_SIZE_OF_PRODUCT  \n0          ICE - CRUSHED/CUBED                22 LB  \n1  NO SUBCOMMODITY DESCRIPTION                       \n2         BREAD:ITALIAN/FRENCH                       \n3                  APPLE SAUCE                50 OZ  \n4            SPECIALTY COOKIES                14 OZ  ",
      "text/html": "<div>\n<style scoped>\n    .dataframe tbody tr th:only-of-type {\n        vertical-align: middle;\n    }\n\n    .dataframe tbody tr th {\n        vertical-align: top;\n    }\n\n    .dataframe thead th {\n        text-align: right;\n    }\n</style>\n<table border=\"1\" class=\"dataframe\">\n  <thead>\n    <tr style=\"text-align: right;\">\n      <th></th>\n      <th>PRODUCT_ID</th>\n      <th>MANUFACTURER</th>\n      <th>DEPARTMENT</th>\n      <th>BRAND</th>\n      <th>COMMODITY_DESC</th>\n      <th>SUB_COMMODITY_DESC</th>\n      <th>CURR_SIZE_OF_PRODUCT</th>\n    </tr>\n  </thead>\n  <tbody>\n    <tr>\n      <th>0</th>\n      <td>25671</td>\n      <td>2</td>\n      <td>GROCERY</td>\n      <td>National</td>\n      <td>FRZN ICE</td>\n      <td>ICE - CRUSHED/CUBED</td>\n      <td>22 LB</td>\n    </tr>\n    <tr>\n      <th>1</th>\n      <td>26081</td>\n      <td>2</td>\n      <td>MISC. TRANS.</td>\n      <td>National</td>\n      <td>NO COMMODITY DESCRIPTION</td>\n      <td>NO SUBCOMMODITY DESCRIPTION</td>\n      <td></td>\n    </tr>\n    <tr>\n      <th>2</th>\n      <td>26093</td>\n      <td>69</td>\n      <td>PASTRY</td>\n      <td>Private</td>\n      <td>BREAD</td>\n      <td>BREAD:ITALIAN/FRENCH</td>\n      <td></td>\n    </tr>\n    <tr>\n      <th>3</th>\n      <td>26190</td>\n      <td>69</td>\n      <td>GROCERY</td>\n      <td>Private</td>\n      <td>FRUIT - SHELF STABLE</td>\n      <td>APPLE SAUCE</td>\n      <td>50 OZ</td>\n    </tr>\n    <tr>\n      <th>4</th>\n      <td>26355</td>\n      <td>69</td>\n      <td>GROCERY</td>\n      <td>Private</td>\n      <td>COOKIES/CONES</td>\n      <td>SPECIALTY COOKIES</td>\n      <td>14 OZ</td>\n    </tr>\n  </tbody>\n</table>\n</div>"
     },
     "execution_count": 7,
     "metadata": {},
     "output_type": "execute_result"
    }
   ],
   "source": [
    "item_features = pd.read_csv('data/product.csv')\n",
    "item_features.head()"
   ]
  },
  {
   "cell_type": "code",
   "execution_count": 8,
   "metadata": {
    "colab": {
     "base_uri": "https://localhost:8080/",
     "height": 206
    },
    "id": "efntkWAF4hbk",
    "outputId": "c2bfecef-b9a4-4f59-b484-40a055495d0d"
   },
   "outputs": [
    {
     "data": {
      "text/plain": "  AGE_DESC MARITAL_STATUS_CODE INCOME_DESC HOMEOWNER_DESC      HH_COMP_DESC  \\\n0      65+                   A      35-49K      Homeowner  2 Adults No Kids   \n1    45-54                   A      50-74K      Homeowner  2 Adults No Kids   \n2    25-34                   U      25-34K        Unknown     2 Adults Kids   \n3    25-34                   U      75-99K      Homeowner     2 Adults Kids   \n4    45-54                   B      50-74K      Homeowner     Single Female   \n\n  HOUSEHOLD_SIZE_DESC KID_CATEGORY_DESC  household_key  \n0                   2      None/Unknown              1  \n1                   2      None/Unknown              7  \n2                   3                 1              8  \n3                   4                 2             13  \n4                   1      None/Unknown             16  ",
      "text/html": "<div>\n<style scoped>\n    .dataframe tbody tr th:only-of-type {\n        vertical-align: middle;\n    }\n\n    .dataframe tbody tr th {\n        vertical-align: top;\n    }\n\n    .dataframe thead th {\n        text-align: right;\n    }\n</style>\n<table border=\"1\" class=\"dataframe\">\n  <thead>\n    <tr style=\"text-align: right;\">\n      <th></th>\n      <th>AGE_DESC</th>\n      <th>MARITAL_STATUS_CODE</th>\n      <th>INCOME_DESC</th>\n      <th>HOMEOWNER_DESC</th>\n      <th>HH_COMP_DESC</th>\n      <th>HOUSEHOLD_SIZE_DESC</th>\n      <th>KID_CATEGORY_DESC</th>\n      <th>household_key</th>\n    </tr>\n  </thead>\n  <tbody>\n    <tr>\n      <th>0</th>\n      <td>65+</td>\n      <td>A</td>\n      <td>35-49K</td>\n      <td>Homeowner</td>\n      <td>2 Adults No Kids</td>\n      <td>2</td>\n      <td>None/Unknown</td>\n      <td>1</td>\n    </tr>\n    <tr>\n      <th>1</th>\n      <td>45-54</td>\n      <td>A</td>\n      <td>50-74K</td>\n      <td>Homeowner</td>\n      <td>2 Adults No Kids</td>\n      <td>2</td>\n      <td>None/Unknown</td>\n      <td>7</td>\n    </tr>\n    <tr>\n      <th>2</th>\n      <td>25-34</td>\n      <td>U</td>\n      <td>25-34K</td>\n      <td>Unknown</td>\n      <td>2 Adults Kids</td>\n      <td>3</td>\n      <td>1</td>\n      <td>8</td>\n    </tr>\n    <tr>\n      <th>3</th>\n      <td>25-34</td>\n      <td>U</td>\n      <td>75-99K</td>\n      <td>Homeowner</td>\n      <td>2 Adults Kids</td>\n      <td>4</td>\n      <td>2</td>\n      <td>13</td>\n    </tr>\n    <tr>\n      <th>4</th>\n      <td>45-54</td>\n      <td>B</td>\n      <td>50-74K</td>\n      <td>Homeowner</td>\n      <td>Single Female</td>\n      <td>1</td>\n      <td>None/Unknown</td>\n      <td>16</td>\n    </tr>\n  </tbody>\n</table>\n</div>"
     },
     "execution_count": 8,
     "metadata": {},
     "output_type": "execute_result"
    }
   ],
   "source": [
    "user_features = pd.read_csv('data/hh_demographic.csv')\n",
    "user_features.head()"
   ]
  },
  {
   "cell_type": "markdown",
   "metadata": {
    "id": "iTVu_10j4hbk"
   },
   "source": [
    "### Train-test split"
   ]
  },
  {
   "cell_type": "markdown",
   "metadata": {
    "id": "wKcSDWyi4hbk"
   },
   "source": [
    "В рекомендательных системах корректнее использовать train-test split по времени, а не случайно  \n",
    "Я возьму последние 3 недели в качестве теста"
   ]
  },
  {
   "cell_type": "code",
   "execution_count": 9,
   "metadata": {
    "id": "5BLQQ1eT4hbl"
   },
   "outputs": [],
   "source": [
    "test_size_weeks = 3\n",
    "\n",
    "data_train = data[data['week_no'] < data['week_no'].max() - test_size_weeks]\n",
    "data_test = data[data['week_no'] >= data['week_no'].max() - test_size_weeks]"
   ]
  },
  {
   "cell_type": "code",
   "execution_count": 10,
   "metadata": {
    "colab": {
     "base_uri": "https://localhost:8080/"
    },
    "id": "jKordFT24hbl",
    "outputId": "10765a69-59a4-4fae-8594-490fbbe266fb"
   },
   "outputs": [
    {
     "data": {
      "text/plain": "(2278490, 118314)"
     },
     "execution_count": 10,
     "metadata": {},
     "output_type": "execute_result"
    }
   ],
   "source": [
    "data_train.shape[0], data_test.shape[0]"
   ]
  },
  {
   "cell_type": "code",
   "source": [
    ""
   ],
   "metadata": {
    "id": "slDkrR6ADaJk"
   },
   "execution_count": 10,
   "outputs": []
  },
  {
   "cell_type": "markdown",
   "metadata": {
    "id": "jvqDvatg4hbl"
   },
   "source": [
    "# 1. Бейзлайны"
   ]
  },
  {
   "cell_type": "markdown",
   "metadata": {
    "id": "3ynP16v74hbm"
   },
   "source": [
    "Создадим датафрейм с покупками юзеров на тестовом датасете (последние 3 недели)"
   ]
  },
  {
   "cell_type": "code",
   "execution_count": 11,
   "metadata": {
    "colab": {
     "base_uri": "https://localhost:8080/",
     "height": 112
    },
    "id": "A3c6Khxl4hbm",
    "outputId": "d05b676b-7c6e-470f-fad6-14421b5c2309"
   },
   "outputs": [
    {
     "data": {
      "text/plain": "   user_id                                             actual\n0        1  [821867, 834484, 856942, 865456, 889248, 90795...\n1        3  [835476, 851057, 872021, 878302, 879948, 90963...",
      "text/html": "<div>\n<style scoped>\n    .dataframe tbody tr th:only-of-type {\n        vertical-align: middle;\n    }\n\n    .dataframe tbody tr th {\n        vertical-align: top;\n    }\n\n    .dataframe thead th {\n        text-align: right;\n    }\n</style>\n<table border=\"1\" class=\"dataframe\">\n  <thead>\n    <tr style=\"text-align: right;\">\n      <th></th>\n      <th>user_id</th>\n      <th>actual</th>\n    </tr>\n  </thead>\n  <tbody>\n    <tr>\n      <th>0</th>\n      <td>1</td>\n      <td>[821867, 834484, 856942, 865456, 889248, 90795...</td>\n    </tr>\n    <tr>\n      <th>1</th>\n      <td>3</td>\n      <td>[835476, 851057, 872021, 878302, 879948, 90963...</td>\n    </tr>\n  </tbody>\n</table>\n</div>"
     },
     "execution_count": 11,
     "metadata": {},
     "output_type": "execute_result"
    }
   ],
   "source": [
    "result = data_test.groupby('user_id')['item_id'].unique().reset_index()\n",
    "result.columns=['user_id', 'actual']\n",
    "result.head(2)"
   ]
  },
  {
   "cell_type": "code",
   "execution_count": 12,
   "metadata": {
    "colab": {
     "base_uri": "https://localhost:8080/"
    },
    "id": "WKjx0nnN4hbn",
    "outputId": "74ddc8ee-84d9-4a32-a475-966e749682a8"
   },
   "outputs": [
    {
     "name": "stdout",
     "output_type": "stream",
     "text": [
      "В тестовом дата сете 2042 юзеров\n",
      "В тестовом дата сете 0 новых юзеров\n"
     ]
    }
   ],
   "source": [
    "test_users = result.shape[0]\n",
    "new_test_users = len(set(data_test['user_id']) - set(data_train['user_id']))\n",
    "\n",
    "print('В тестовом дата сете {} юзеров'.format(test_users))\n",
    "print('В тестовом дата сете {} новых юзеров'.format(new_test_users))"
   ]
  },
  {
   "cell_type": "markdown",
   "metadata": {
    "id": "YQRXhsO74hbn"
   },
   "source": [
    "### 1.1 Random recommendation"
   ]
  },
  {
   "cell_type": "code",
   "execution_count": 13,
   "metadata": {
    "id": "W0Kv2ay54hbn"
   },
   "outputs": [],
   "source": [
    "def random_recommendation(items, n=5):\n",
    "    \"\"\"Случайные рекоммендации\"\"\"\n",
    "    \n",
    "    items = np.array(items)\n",
    "    recs = np.random.choice(items, size=n, replace=False)\n",
    "    \n",
    "    return recs.tolist()"
   ]
  },
  {
   "cell_type": "code",
   "execution_count": 14,
   "metadata": {
    "colab": {
     "base_uri": "https://localhost:8080/"
    },
    "id": "42Uc9pzE4hbo",
    "outputId": "57f989d8-17f6-4f24-b51a-11d138ed012f"
   },
   "outputs": [
    {
     "name": "stdout",
     "output_type": "stream",
     "text": [
      "CPU times: total: 5.11 s\n",
      "Wall time: 5.13 s\n"
     ]
    },
    {
     "data": {
      "text/plain": "   user_id                                             actual  \\\n0        1  [821867, 834484, 856942, 865456, 889248, 90795...   \n1        3  [835476, 851057, 872021, 878302, 879948, 90963...   \n\n                          random_recommendation  \n0  [6045528, 12604278, 5565069, 1190222, 46533]  \n1  [38552, 10311387, 13006971, 1065380, 864214]  ",
      "text/html": "<div>\n<style scoped>\n    .dataframe tbody tr th:only-of-type {\n        vertical-align: middle;\n    }\n\n    .dataframe tbody tr th {\n        vertical-align: top;\n    }\n\n    .dataframe thead th {\n        text-align: right;\n    }\n</style>\n<table border=\"1\" class=\"dataframe\">\n  <thead>\n    <tr style=\"text-align: right;\">\n      <th></th>\n      <th>user_id</th>\n      <th>actual</th>\n      <th>random_recommendation</th>\n    </tr>\n  </thead>\n  <tbody>\n    <tr>\n      <th>0</th>\n      <td>1</td>\n      <td>[821867, 834484, 856942, 865456, 889248, 90795...</td>\n      <td>[6045528, 12604278, 5565069, 1190222, 46533]</td>\n    </tr>\n    <tr>\n      <th>1</th>\n      <td>3</td>\n      <td>[835476, 851057, 872021, 878302, 879948, 90963...</td>\n      <td>[38552, 10311387, 13006971, 1065380, 864214]</td>\n    </tr>\n  </tbody>\n</table>\n</div>"
     },
     "execution_count": 14,
     "metadata": {},
     "output_type": "execute_result"
    }
   ],
   "source": [
    "%%time\n",
    "\n",
    "items = data_train.item_id.unique()\n",
    "\n",
    "result['random_recommendation'] = result['user_id'].apply(lambda x: random_recommendation(items, n=5))\n",
    "\n",
    "result.head(2)"
   ]
  },
  {
   "cell_type": "markdown",
   "metadata": {
    "id": "wL4-IkP74hbo"
   },
   "source": [
    "### 1.2 Popularity-based recommendation"
   ]
  },
  {
   "cell_type": "code",
   "execution_count": 15,
   "metadata": {
    "id": "PMmg2x864hbo"
   },
   "outputs": [],
   "source": [
    "def popularity_recommendation(data, n=5):\n",
    "    \"\"\"Топ-n популярных товаров\"\"\"\n",
    "    \n",
    "    popular = data.groupby('item_id')['sales_value'].sum().reset_index()\n",
    "    popular.sort_values('sales_value', ascending=False, inplace=True)\n",
    "    \n",
    "    recs = popular.head(n).item_id\n",
    "    \n",
    "    return recs.tolist()"
   ]
  },
  {
   "cell_type": "code",
   "execution_count": 16,
   "metadata": {
    "colab": {
     "base_uri": "https://localhost:8080/"
    },
    "id": "NuPJfvGL4hbo",
    "outputId": "f879a8df-d230-4686-e4aa-f51f9ddce3f5"
   },
   "outputs": [
    {
     "name": "stdout",
     "output_type": "stream",
     "text": [
      "CPU times: total: 281 ms\n",
      "Wall time: 220 ms\n"
     ]
    },
    {
     "data": {
      "text/plain": "   user_id                                             actual  \\\n0        1  [821867, 834484, 856942, 865456, 889248, 90795...   \n1        3  [835476, 851057, 872021, 878302, 879948, 90963...   \n\n                          random_recommendation  \\\n0  [6045528, 12604278, 5565069, 1190222, 46533]   \n1  [38552, 10311387, 13006971, 1065380, 864214]   \n\n                          popular_recommendation  \n0  [6534178, 6533889, 1029743, 6534166, 1082185]  \n1  [6534178, 6533889, 1029743, 6534166, 1082185]  ",
      "text/html": "<div>\n<style scoped>\n    .dataframe tbody tr th:only-of-type {\n        vertical-align: middle;\n    }\n\n    .dataframe tbody tr th {\n        vertical-align: top;\n    }\n\n    .dataframe thead th {\n        text-align: right;\n    }\n</style>\n<table border=\"1\" class=\"dataframe\">\n  <thead>\n    <tr style=\"text-align: right;\">\n      <th></th>\n      <th>user_id</th>\n      <th>actual</th>\n      <th>random_recommendation</th>\n      <th>popular_recommendation</th>\n    </tr>\n  </thead>\n  <tbody>\n    <tr>\n      <th>0</th>\n      <td>1</td>\n      <td>[821867, 834484, 856942, 865456, 889248, 90795...</td>\n      <td>[6045528, 12604278, 5565069, 1190222, 46533]</td>\n      <td>[6534178, 6533889, 1029743, 6534166, 1082185]</td>\n    </tr>\n    <tr>\n      <th>1</th>\n      <td>3</td>\n      <td>[835476, 851057, 872021, 878302, 879948, 90963...</td>\n      <td>[38552, 10311387, 13006971, 1065380, 864214]</td>\n      <td>[6534178, 6533889, 1029743, 6534166, 1082185]</td>\n    </tr>\n  </tbody>\n</table>\n</div>"
     },
     "execution_count": 16,
     "metadata": {},
     "output_type": "execute_result"
    }
   ],
   "source": [
    "%%time\n",
    "\n",
    "# Можно так делать, так как рекомендация не зависит от юзера\n",
    "popular_recs = popularity_recommendation(data_train, n=5)\n",
    "\n",
    "result['popular_recommendation'] = result['user_id'].apply(lambda x: popular_recs)\n",
    "result.head(2)"
   ]
  },
  {
   "cell_type": "markdown",
   "metadata": {
    "id": "PASsZ3SL4hbp"
   },
   "source": [
    "### 1.3 Weighted random recommender"
   ]
  },
  {
   "cell_type": "markdown",
   "metadata": {
    "id": "-16GULAN4hbp"
   },
   "source": [
    "- Можно сэмплировать товары случайно, но пропорционально какому-либо весу\n",
    "- Например, прямопропорционально популярности. Вес = log(sales_sum товара)"
   ]
  },
  {
   "cell_type": "markdown",
   "metadata": {
    "id": "MDRmFrlY4hbp"
   },
   "source": [
    "*Пример*  \n",
    "item_1 - 5, item_2 - 7, item_3 - 4  # / sum  \n",
    "item_1 - 5 / 16, item_2 - 7 / 16, item_3 - 4 / 16"
   ]
  },
  {
   "cell_type": "code",
   "source": [
    "#Подготовка датафрейма с весами для функции\n",
    "\n",
    "popular = data.groupby('item_id')['sales_value'].sum() #Собираем суммы для весов\n",
    "popular += 0.0001 #Добавляем искусственно коэффициент малой точности, чтобы уйти от нулей в признаке, иначе получим inf:Division by zero\n",
    "items_weights = np.log10(popular).to_frame().reset_index()\n",
    "items_weights.rename(columns={\"sales_value\": \"weight\", }, inplace=True)\n",
    "items_weights['weight'].sum() #Проверяем что веса суммируются\n",
    "#Собираю входной датафрейм с весами полученных через десятичный логарифм из sales_value\n",
    "#Вес = log(sales_sum товара) - логарифм по какому основанию имеется ввиду? (небольшое замечание)"
   ],
   "metadata": {
    "colab": {
     "base_uri": "https://localhost:8080/"
    },
    "id": "9GReFUIcH8Ox",
    "outputId": "208bf037-0b77-472b-bf75-be3bc442116e"
   },
   "execution_count": 17,
   "outputs": [
    {
     "data": {
      "text/plain": "99470.5282675824"
     },
     "execution_count": 17,
     "metadata": {},
     "output_type": "execute_result"
    }
   ]
  },
  {
   "cell_type": "code",
   "execution_count": 18,
   "metadata": {
    "id": "31GYeHT_4hbp"
   },
   "outputs": [],
   "source": [
    "def weighted_random_recommendation(items_weights, n=5):\n",
    "    \"\"\"Случайные рекоммендации\n",
    "    \n",
    "    Input\n",
    "    -----\n",
    "    items_weights: pd.DataFrame\n",
    "        Датафрейм со столбцами item_id, weight. Сумма weight по всем товарам = 1\n",
    "    \"\"\"\n",
    "    items_weights['weight_1'] = items_weights['weight']/items_weights['weight'].sum()\n",
    "    results = items_weights.drop(columns=['weight'])\n",
    "    results.sort_values('weight_1', ascending=False, inplace=True)\n",
    "    recs = results.head(n).item_id\n",
    "    # Подсказка: необходимо модифицировать функцию random_recommendation()\n",
    "    # your_code\n",
    "\n",
    "    return recs.tolist()"
   ]
  },
  {
   "cell_type": "code",
   "source": [
    "weighted_random_recommendation(items_weights, n=5)"
   ],
   "metadata": {
    "colab": {
     "base_uri": "https://localhost:8080/"
    },
    "id": "qFIL3YJJd5rW",
    "outputId": "d1e4bbad-d083-47f4-c785-4cb61cfa75b2"
   },
   "execution_count": 19,
   "outputs": [
    {
     "data": {
      "text/plain": "[6534178, 6533889, 1029743, 6534166, 1082185]"
     },
     "execution_count": 19,
     "metadata": {},
     "output_type": "execute_result"
    }
   ]
  },
  {
   "cell_type": "markdown",
   "metadata": {
    "id": "Rb5-_uIV4hbp"
   },
   "source": [
    "### Выводы по бейзлайнам\n",
    "- Фиксируют базовое качество;\n",
    "- Бейзлайны могут быть фильтрами;\n",
    "- Иногда бейзлайны лучше ML-модели"
   ]
  },
  {
   "cell_type": "markdown",
   "metadata": {
    "id": "jaFUIdgG4hbp"
   },
   "source": [
    "# 2. Детерминированные алгоритмы"
   ]
  },
  {
   "cell_type": "markdown",
   "metadata": {
    "id": "2av6Lavj4hbq"
   },
   "source": [
    "## 2.1 Item-Item Recommender / ItemKNN"
   ]
  },
  {
   "cell_type": "markdown",
   "metadata": {
    "id": "n84y8ieI4hbq"
   },
   "source": [
    "![cf_memory.png](attachment:cf_memory.png)"
   ]
  },
  {
   "cell_type": "markdown",
   "metadata": {
    "id": "OiaaKKcf4hbq"
   },
   "source": [
    "![user_item_matrix.png](attachment:user_item_matrix.png)"
   ]
  },
  {
   "cell_type": "markdown",
   "metadata": {
    "id": "uRzxj4z34hbq"
   },
   "source": [
    "То, что именно находится в матрице user-item нужно определять из бизнес-логики\n",
    "\n",
    "Варианты для нашего датасета(не исчерпывающий список):\n",
    "    - Факт покупки (0 / 1)\n",
    "    - Кол-во покупок (count)\n",
    "    - Сумма покупки, руб\n",
    "    - ...\n",
    "    \n",
    "**Детерминированные алгоритмы**:\n",
    "    - Предсказывают те числа, которые стоят в матрице\n",
    "\n",
    "**ML-алгоритмы (большинство)**:\n",
    "    - В качестве *таргетов* \"под капотом\" принимают 0 и 1 (в ячейке не 0 -> таргет 1)\n",
    "    - А абсолютные значения воспринимают как *веса ошибок*\n",
    "    \n",
    "*P.S.* На самом деле есть много трюков, как можно заполнять матрицу user-item."
   ]
  },
  {
   "cell_type": "markdown",
   "metadata": {
    "id": "-x_I9Vt-4hbq"
   },
   "source": [
    "**Как работает Item-Item Recommender**"
   ]
  },
  {
   "cell_type": "markdown",
   "metadata": {
    "id": "FH_zQneb4hbq"
   },
   "source": [
    "![item_item_recommender.png](attachment:item_item_recommender.png)"
   ]
  },
  {
   "cell_type": "markdown",
   "metadata": {
    "id": "BXBwKjIO4hbr"
   },
   "source": [
    "*Шаг 1:* Ищем K ближайших товаров к товару  \n",
    "*Шаг 2*: predict \"скора\" товара = среднему \"скору\" этого товара у его соседей  \n",
    "*Шаг 3*: Сортируем товары по убыванию predict-ов score и берем топ-k"
   ]
  },
  {
   "cell_type": "markdown",
   "metadata": {
    "id": "JoQyHCXU4hbr"
   },
   "source": [
    "----\n",
    "**(!) Важно** \n",
    "- У item-item алгоритмов большая сложность ($O(I^2 log(I))$ или $O(I^3)$, в зависимости от реализации \n",
    "- Если в датасете много item_id, то item-item модели ОЧЕНЬ долго предсказывают. Со всеми товарами predict на тесте ~2 часа\n",
    "- Давайте возьмем из ~90к товаров только 5k самых популярных \n",
    "\n",
    "*P.S.*  Брать топ-Х популярных и рекомендовать только из них - очень популярная стратегия.   \n",
    "*P.P.S.*  В рекомендательных системах много таких трюков. Что-то подобное в курсе вы увидите еще не раз"
   ]
  },
  {
   "cell_type": "code",
   "execution_count": 20,
   "metadata": {
    "colab": {
     "base_uri": "https://localhost:8080/",
     "height": 206
    },
    "id": "EHJYjpeG4hbr",
    "outputId": "ecf86715-f6c3-404e-a4c0-ba87e4652bdb"
   },
   "outputs": [
    {
     "data": {
      "text/plain": "   item_id  n_sold\n0    25671       6\n1    26081       1\n2    26093       1\n3    26190       1\n4    26355       2",
      "text/html": "<div>\n<style scoped>\n    .dataframe tbody tr th:only-of-type {\n        vertical-align: middle;\n    }\n\n    .dataframe tbody tr th {\n        vertical-align: top;\n    }\n\n    .dataframe thead th {\n        text-align: right;\n    }\n</style>\n<table border=\"1\" class=\"dataframe\">\n  <thead>\n    <tr style=\"text-align: right;\">\n      <th></th>\n      <th>item_id</th>\n      <th>n_sold</th>\n    </tr>\n  </thead>\n  <tbody>\n    <tr>\n      <th>0</th>\n      <td>25671</td>\n      <td>6</td>\n    </tr>\n    <tr>\n      <th>1</th>\n      <td>26081</td>\n      <td>1</td>\n    </tr>\n    <tr>\n      <th>2</th>\n      <td>26093</td>\n      <td>1</td>\n    </tr>\n    <tr>\n      <th>3</th>\n      <td>26190</td>\n      <td>1</td>\n    </tr>\n    <tr>\n      <th>4</th>\n      <td>26355</td>\n      <td>2</td>\n    </tr>\n  </tbody>\n</table>\n</div>"
     },
     "execution_count": 20,
     "metadata": {},
     "output_type": "execute_result"
    }
   ],
   "source": [
    "popularity = data_train.groupby('item_id')['quantity'].sum().reset_index()\n",
    "popularity.rename(columns={'quantity': 'n_sold'}, inplace=True)\n",
    "\n",
    "popularity.head()"
   ]
  },
  {
   "cell_type": "code",
   "execution_count": 21,
   "metadata": {
    "id": "BVaw8t_o4hbr"
   },
   "outputs": [],
   "source": [
    "top_5000 = popularity.sort_values('n_sold', ascending=False).head(5000).item_id.tolist()"
   ]
  },
  {
   "cell_type": "code",
   "execution_count": 22,
   "metadata": {
    "scrolled": true,
    "colab": {
     "base_uri": "https://localhost:8080/",
     "height": 423
    },
    "id": "Fc1dkNh94hbr",
    "outputId": "8f93899b-01ba-4f5b-b1e3-61cef0fcefe9"
   },
   "outputs": [
    {
     "data": {
      "text/plain": "    user_id    basket_id  day  item_id  quantity  sales_value  store_id  \\\n0      2375  26984851472    1  1004906         1         1.39       364   \n1      2375  26984851472    1  1033142         1         0.82       364   \n2      2375  26984851472    1  1036325         1         0.99       364   \n3      2375  26984851472    1  1082185         1         1.21       364   \n4      2375  26984851472    1  8160430         1         1.50       364   \n..      ...          ...  ...      ...       ...          ...       ...   \n95     1060  26985040735    1  9553288         1         8.49       315   \n96     1351  26985052379    1   903230         1         0.99       447   \n97      744  26985165432    1  5978648         0         0.00     31582   \n98      212  26985205886    1   822346         1         1.25       288   \n99      212  26985205886    1   830887         1         2.29       288   \n\n    retail_disc  trans_time  week_no  coupon_disc  coupon_match_disc  \n0         -0.60        1631        1          0.0                0.0  \n1          0.00        1631        1          0.0                0.0  \n2         -0.30        1631        1          0.0                0.0  \n3          0.00        1631        1          0.0                0.0  \n4         -0.39        1631        1          0.0                0.0  \n..          ...         ...      ...          ...                ...  \n95         0.00        1251        1          0.0                0.0  \n96        -0.30        1955        1          0.0                0.0  \n97         0.00        1119        1          0.0                0.0  \n98        -0.34        1341        1          0.0                0.0  \n99        -0.70        1341        1          0.0                0.0  \n\n[100 rows x 12 columns]",
      "text/html": "<div>\n<style scoped>\n    .dataframe tbody tr th:only-of-type {\n        vertical-align: middle;\n    }\n\n    .dataframe tbody tr th {\n        vertical-align: top;\n    }\n\n    .dataframe thead th {\n        text-align: right;\n    }\n</style>\n<table border=\"1\" class=\"dataframe\">\n  <thead>\n    <tr style=\"text-align: right;\">\n      <th></th>\n      <th>user_id</th>\n      <th>basket_id</th>\n      <th>day</th>\n      <th>item_id</th>\n      <th>quantity</th>\n      <th>sales_value</th>\n      <th>store_id</th>\n      <th>retail_disc</th>\n      <th>trans_time</th>\n      <th>week_no</th>\n      <th>coupon_disc</th>\n      <th>coupon_match_disc</th>\n    </tr>\n  </thead>\n  <tbody>\n    <tr>\n      <th>0</th>\n      <td>2375</td>\n      <td>26984851472</td>\n      <td>1</td>\n      <td>1004906</td>\n      <td>1</td>\n      <td>1.39</td>\n      <td>364</td>\n      <td>-0.60</td>\n      <td>1631</td>\n      <td>1</td>\n      <td>0.0</td>\n      <td>0.0</td>\n    </tr>\n    <tr>\n      <th>1</th>\n      <td>2375</td>\n      <td>26984851472</td>\n      <td>1</td>\n      <td>1033142</td>\n      <td>1</td>\n      <td>0.82</td>\n      <td>364</td>\n      <td>0.00</td>\n      <td>1631</td>\n      <td>1</td>\n      <td>0.0</td>\n      <td>0.0</td>\n    </tr>\n    <tr>\n      <th>2</th>\n      <td>2375</td>\n      <td>26984851472</td>\n      <td>1</td>\n      <td>1036325</td>\n      <td>1</td>\n      <td>0.99</td>\n      <td>364</td>\n      <td>-0.30</td>\n      <td>1631</td>\n      <td>1</td>\n      <td>0.0</td>\n      <td>0.0</td>\n    </tr>\n    <tr>\n      <th>3</th>\n      <td>2375</td>\n      <td>26984851472</td>\n      <td>1</td>\n      <td>1082185</td>\n      <td>1</td>\n      <td>1.21</td>\n      <td>364</td>\n      <td>0.00</td>\n      <td>1631</td>\n      <td>1</td>\n      <td>0.0</td>\n      <td>0.0</td>\n    </tr>\n    <tr>\n      <th>4</th>\n      <td>2375</td>\n      <td>26984851472</td>\n      <td>1</td>\n      <td>8160430</td>\n      <td>1</td>\n      <td>1.50</td>\n      <td>364</td>\n      <td>-0.39</td>\n      <td>1631</td>\n      <td>1</td>\n      <td>0.0</td>\n      <td>0.0</td>\n    </tr>\n    <tr>\n      <th>...</th>\n      <td>...</td>\n      <td>...</td>\n      <td>...</td>\n      <td>...</td>\n      <td>...</td>\n      <td>...</td>\n      <td>...</td>\n      <td>...</td>\n      <td>...</td>\n      <td>...</td>\n      <td>...</td>\n      <td>...</td>\n    </tr>\n    <tr>\n      <th>95</th>\n      <td>1060</td>\n      <td>26985040735</td>\n      <td>1</td>\n      <td>9553288</td>\n      <td>1</td>\n      <td>8.49</td>\n      <td>315</td>\n      <td>0.00</td>\n      <td>1251</td>\n      <td>1</td>\n      <td>0.0</td>\n      <td>0.0</td>\n    </tr>\n    <tr>\n      <th>96</th>\n      <td>1351</td>\n      <td>26985052379</td>\n      <td>1</td>\n      <td>903230</td>\n      <td>1</td>\n      <td>0.99</td>\n      <td>447</td>\n      <td>-0.30</td>\n      <td>1955</td>\n      <td>1</td>\n      <td>0.0</td>\n      <td>0.0</td>\n    </tr>\n    <tr>\n      <th>97</th>\n      <td>744</td>\n      <td>26985165432</td>\n      <td>1</td>\n      <td>5978648</td>\n      <td>0</td>\n      <td>0.00</td>\n      <td>31582</td>\n      <td>0.00</td>\n      <td>1119</td>\n      <td>1</td>\n      <td>0.0</td>\n      <td>0.0</td>\n    </tr>\n    <tr>\n      <th>98</th>\n      <td>212</td>\n      <td>26985205886</td>\n      <td>1</td>\n      <td>822346</td>\n      <td>1</td>\n      <td>1.25</td>\n      <td>288</td>\n      <td>-0.34</td>\n      <td>1341</td>\n      <td>1</td>\n      <td>0.0</td>\n      <td>0.0</td>\n    </tr>\n    <tr>\n      <th>99</th>\n      <td>212</td>\n      <td>26985205886</td>\n      <td>1</td>\n      <td>830887</td>\n      <td>1</td>\n      <td>2.29</td>\n      <td>288</td>\n      <td>-0.70</td>\n      <td>1341</td>\n      <td>1</td>\n      <td>0.0</td>\n      <td>0.0</td>\n    </tr>\n  </tbody>\n</table>\n<p>100 rows × 12 columns</p>\n</div>"
     },
     "execution_count": 22,
     "metadata": {},
     "output_type": "execute_result"
    }
   ],
   "source": [
    "data_train.head(100)"
   ]
  },
  {
   "cell_type": "code",
   "execution_count": 23,
   "metadata": {
    "colab": {
     "base_uri": "https://localhost:8080/",
     "height": 528
    },
    "id": "FCiyxqg_4hbs",
    "outputId": "7fa0140f-fa47-416a-df69-170701343c90"
   },
   "outputs": [
    {
     "data": {
      "text/plain": "    user_id    basket_id  day  item_id  quantity  sales_value  store_id  \\\n0      2375  26984851472    1  1004906         1         1.39       364   \n1      2375  26984851472    1  1033142         1         0.82       364   \n2      2375  26984851472    1  1036325         1         0.99       364   \n3      2375  26984851472    1  1082185         1         1.21       364   \n4      2375  26984851472    1  8160430         1         1.50       364   \n..      ...          ...  ...      ...       ...          ...       ...   \n95     1060  26985040735    1  9553288         1         8.49       315   \n96     1351  26985052379    1   903230         1         0.99       447   \n97      744  26985165432    1     6666         0         0.00     31582   \n98      212  26985205886    1   822346         1         1.25       288   \n99      212  26985205886    1   830887         1         2.29       288   \n\n    retail_disc  trans_time  week_no  coupon_disc  coupon_match_disc  \n0         -0.60        1631        1          0.0                0.0  \n1          0.00        1631        1          0.0                0.0  \n2         -0.30        1631        1          0.0                0.0  \n3          0.00        1631        1          0.0                0.0  \n4         -0.39        1631        1          0.0                0.0  \n..          ...         ...      ...          ...                ...  \n95         0.00        1251        1          0.0                0.0  \n96        -0.30        1955        1          0.0                0.0  \n97         0.00        1119        1          0.0                0.0  \n98        -0.34        1341        1          0.0                0.0  \n99        -0.70        1341        1          0.0                0.0  \n\n[100 rows x 12 columns]",
      "text/html": "<div>\n<style scoped>\n    .dataframe tbody tr th:only-of-type {\n        vertical-align: middle;\n    }\n\n    .dataframe tbody tr th {\n        vertical-align: top;\n    }\n\n    .dataframe thead th {\n        text-align: right;\n    }\n</style>\n<table border=\"1\" class=\"dataframe\">\n  <thead>\n    <tr style=\"text-align: right;\">\n      <th></th>\n      <th>user_id</th>\n      <th>basket_id</th>\n      <th>day</th>\n      <th>item_id</th>\n      <th>quantity</th>\n      <th>sales_value</th>\n      <th>store_id</th>\n      <th>retail_disc</th>\n      <th>trans_time</th>\n      <th>week_no</th>\n      <th>coupon_disc</th>\n      <th>coupon_match_disc</th>\n    </tr>\n  </thead>\n  <tbody>\n    <tr>\n      <th>0</th>\n      <td>2375</td>\n      <td>26984851472</td>\n      <td>1</td>\n      <td>1004906</td>\n      <td>1</td>\n      <td>1.39</td>\n      <td>364</td>\n      <td>-0.60</td>\n      <td>1631</td>\n      <td>1</td>\n      <td>0.0</td>\n      <td>0.0</td>\n    </tr>\n    <tr>\n      <th>1</th>\n      <td>2375</td>\n      <td>26984851472</td>\n      <td>1</td>\n      <td>1033142</td>\n      <td>1</td>\n      <td>0.82</td>\n      <td>364</td>\n      <td>0.00</td>\n      <td>1631</td>\n      <td>1</td>\n      <td>0.0</td>\n      <td>0.0</td>\n    </tr>\n    <tr>\n      <th>2</th>\n      <td>2375</td>\n      <td>26984851472</td>\n      <td>1</td>\n      <td>1036325</td>\n      <td>1</td>\n      <td>0.99</td>\n      <td>364</td>\n      <td>-0.30</td>\n      <td>1631</td>\n      <td>1</td>\n      <td>0.0</td>\n      <td>0.0</td>\n    </tr>\n    <tr>\n      <th>3</th>\n      <td>2375</td>\n      <td>26984851472</td>\n      <td>1</td>\n      <td>1082185</td>\n      <td>1</td>\n      <td>1.21</td>\n      <td>364</td>\n      <td>0.00</td>\n      <td>1631</td>\n      <td>1</td>\n      <td>0.0</td>\n      <td>0.0</td>\n    </tr>\n    <tr>\n      <th>4</th>\n      <td>2375</td>\n      <td>26984851472</td>\n      <td>1</td>\n      <td>8160430</td>\n      <td>1</td>\n      <td>1.50</td>\n      <td>364</td>\n      <td>-0.39</td>\n      <td>1631</td>\n      <td>1</td>\n      <td>0.0</td>\n      <td>0.0</td>\n    </tr>\n    <tr>\n      <th>...</th>\n      <td>...</td>\n      <td>...</td>\n      <td>...</td>\n      <td>...</td>\n      <td>...</td>\n      <td>...</td>\n      <td>...</td>\n      <td>...</td>\n      <td>...</td>\n      <td>...</td>\n      <td>...</td>\n      <td>...</td>\n    </tr>\n    <tr>\n      <th>95</th>\n      <td>1060</td>\n      <td>26985040735</td>\n      <td>1</td>\n      <td>9553288</td>\n      <td>1</td>\n      <td>8.49</td>\n      <td>315</td>\n      <td>0.00</td>\n      <td>1251</td>\n      <td>1</td>\n      <td>0.0</td>\n      <td>0.0</td>\n    </tr>\n    <tr>\n      <th>96</th>\n      <td>1351</td>\n      <td>26985052379</td>\n      <td>1</td>\n      <td>903230</td>\n      <td>1</td>\n      <td>0.99</td>\n      <td>447</td>\n      <td>-0.30</td>\n      <td>1955</td>\n      <td>1</td>\n      <td>0.0</td>\n      <td>0.0</td>\n    </tr>\n    <tr>\n      <th>97</th>\n      <td>744</td>\n      <td>26985165432</td>\n      <td>1</td>\n      <td>6666</td>\n      <td>0</td>\n      <td>0.00</td>\n      <td>31582</td>\n      <td>0.00</td>\n      <td>1119</td>\n      <td>1</td>\n      <td>0.0</td>\n      <td>0.0</td>\n    </tr>\n    <tr>\n      <th>98</th>\n      <td>212</td>\n      <td>26985205886</td>\n      <td>1</td>\n      <td>822346</td>\n      <td>1</td>\n      <td>1.25</td>\n      <td>288</td>\n      <td>-0.34</td>\n      <td>1341</td>\n      <td>1</td>\n      <td>0.0</td>\n      <td>0.0</td>\n    </tr>\n    <tr>\n      <th>99</th>\n      <td>212</td>\n      <td>26985205886</td>\n      <td>1</td>\n      <td>830887</td>\n      <td>1</td>\n      <td>2.29</td>\n      <td>288</td>\n      <td>-0.70</td>\n      <td>1341</td>\n      <td>1</td>\n      <td>0.0</td>\n      <td>0.0</td>\n    </tr>\n  </tbody>\n</table>\n<p>100 rows × 12 columns</p>\n</div>"
     },
     "execution_count": 23,
     "metadata": {},
     "output_type": "execute_result"
    }
   ],
   "source": [
    "# Заведем фиктивный item_id (если юзер покупал товары из топ-5000, то он \"купил\" такой товар)\n",
    "data_train.loc[~data_train['item_id'].isin(top_5000), 'item_id'] = 6666\n",
    "data_train.head(100)"
   ]
  },
  {
   "cell_type": "code",
   "execution_count": 24,
   "metadata": {
    "id": "6O8ij1Ci4hbs"
   },
   "outputs": [],
   "source": [
    "user_item_matrix = pd.pivot_table(data_train, \n",
    "                                  index='user_id', columns='item_id', \n",
    "                                  values='quantity',\n",
    "                                  aggfunc='count', \n",
    "                                  fill_value=0\n",
    "                                 )\n",
    "\n",
    "user_item_matrix[user_item_matrix > 0] = 1 # так как в итоге хотим предсказать \n",
    "\n",
    "user_item_matrix = user_item_matrix.astype(float) # необходимый тип матрицы для implicit\n",
    "\n",
    "# переведем в формат sparse matrix\n",
    "sparse_user_item = csr_matrix(user_item_matrix)\n"
   ]
  },
  {
   "cell_type": "markdown",
   "metadata": {
    "id": "B2plehVm4hbs"
   },
   "source": [
    "## Разряженность матрицы"
   ]
  },
  {
   "cell_type": "code",
   "execution_count": 25,
   "metadata": {
    "colab": {
     "base_uri": "https://localhost:8080/"
    },
    "id": "hP6Nj9fp4hbs",
    "outputId": "a8c022d3-2891-435b-fa42-65a40ccf52ef"
   },
   "outputs": [
    {
     "data": {
      "text/plain": "5.33770796861036"
     },
     "execution_count": 25,
     "metadata": {},
     "output_type": "execute_result"
    }
   ],
   "source": [
    "user_item_matrix.sum().sum() / (user_item_matrix.shape[0] * user_item_matrix.shape[1]) * 100"
   ]
  },
  {
   "cell_type": "code",
   "execution_count": 26,
   "metadata": {
    "id": "9-sATlM34hbs"
   },
   "outputs": [],
   "source": [
    "# создаем словари мапинга между id бизнеса к строчному id матрицы\n",
    "\n",
    "userids = user_item_matrix.index.values\n",
    "itemids = user_item_matrix.columns.values\n",
    "\n",
    "matrix_userids = np.arange(len(userids))\n",
    "matrix_itemids = np.arange(len(itemids))\n",
    "\n",
    "id_to_itemid = dict(zip(matrix_itemids, itemids))\n",
    "id_to_userid = dict(zip(matrix_userids, userids))\n",
    "\n",
    "itemid_to_id = dict(zip(itemids, matrix_itemids))\n",
    "userid_to_id = dict(zip(userids, matrix_userids))"
   ]
  },
  {
   "cell_type": "markdown",
   "metadata": {
    "id": "Vrhn3F_j4hbs"
   },
   "source": [
    "# Fit"
   ]
  },
  {
   "cell_type": "code",
   "execution_count": 27,
   "metadata": {
    "colab": {
     "base_uri": "https://localhost:8080/",
     "height": 84,
     "referenced_widgets": [
      "153203a5d7e049458194bcc6d50f1d7d",
      "353afd79170740dbab7b1e68a4534fa5",
      "efc29db9e9214b41ad5b0e7bbf71c5f7",
      "abdfcd33ea9f4bbfbc54c6026aee4039",
      "c0ed62c55a034dc39710bb5b8122d84f",
      "6bef71fe8798458fb429a618ce714386",
      "180ef7ce80f4407e8906420e28e50e19",
      "616b8f4fd9874940ad593463cf18f299",
      "85cf5475a3904b32a200fd529a187160",
      "3ec99fb4e69c47f094b39f9b625d91a5",
      "bfdd7a4a79994bddb2f896ba1f62c695"
     ]
    },
    "id": "o7HzvfCD4hbt",
    "outputId": "db03c93a-d0c2-4954-92f1-39948fefc9cb"
   },
   "outputs": [
    {
     "data": {
      "text/plain": "  0%|          | 0/5001 [00:00<?, ?it/s]",
      "application/vnd.jupyter.widget-view+json": {
       "version_major": 2,
       "version_minor": 0,
       "model_id": "4d49dd200f5d470ba3d26b78cbf35007"
      }
     },
     "metadata": {},
     "output_type": "display_data"
    },
    {
     "name": "stdout",
     "output_type": "stream",
     "text": [
      "CPU times: total: 3.28 s\n",
      "Wall time: 1.62 s\n"
     ]
    }
   ],
   "source": [
    "%%time\n",
    "\n",
    "model = ItemItemRecommender(K=13, num_threads=4) # K - кол-во билжайших соседей\n",
    "\n",
    "\n",
    "model.fit(csr_matrix(user_item_matrix).T.tocsr(),  # На вход item-user matrix\n",
    "          show_progress=True)\n",
    "\n",
    "\n",
    "recs = model.recommend(userid=userid_to_id[2],  # userid - id от 0 до N\n",
    "                        user_items=csr_matrix(user_item_matrix).tocsr(),   # на вход user-item matrix\n",
    "                        N=5, # кол-во рекомендаций \n",
    "                        filter_already_liked_items=False, \n",
    "                        filter_items=None, \n",
    "                        recalculate_user=True)"
   ]
  },
  {
   "cell_type": "code",
   "execution_count": 28,
   "metadata": {
    "colab": {
     "base_uri": "https://localhost:8080/"
    },
    "id": "01UWTAYD4hbt",
    "outputId": "c30bd924-d6c3-4f2b-e8e7-71aed4efd3b4"
   },
   "outputs": [
    {
     "data": {
      "text/plain": "[(0, 78679.0),\n (3408, 72173.0),\n (2149, 60612.0),\n (301, 49790.0),\n (2308, 49269.0)]"
     },
     "execution_count": 28,
     "metadata": {},
     "output_type": "execute_result"
    }
   ],
   "source": [
    "recs"
   ]
  },
  {
   "cell_type": "code",
   "execution_count": 29,
   "metadata": {
    "colab": {
     "base_uri": "https://localhost:8080/"
    },
    "id": "yG_BZWUy4hbt",
    "outputId": "154f5778-7053-484b-90ba-2d148aba34d8"
   },
   "outputs": [
    {
     "data": {
      "text/plain": "[6666, 1082185, 981760, 840361, 995242]"
     },
     "execution_count": 29,
     "metadata": {},
     "output_type": "execute_result"
    }
   ],
   "source": [
    "[id_to_itemid[rec[0]] for rec in recs]"
   ]
  },
  {
   "cell_type": "code",
   "execution_count": 30,
   "metadata": {
    "colab": {
     "base_uri": "https://localhost:8080/"
    },
    "id": "DmtJdxwF4hbt",
    "outputId": "2924b409-08ab-49dd-c869-8b359f67180f"
   },
   "outputs": [
    {
     "name": "stdout",
     "output_type": "stream",
     "text": [
      "CPU times: total: 141 ms\n",
      "Wall time: 121 ms\n"
     ]
    }
   ],
   "source": [
    "%%time\n",
    "\n",
    "result['itemitem'] = result['user_id'].apply(lambda user_id: [id_to_itemid[rec[0]]  \n",
    "                                                              for rec in model.recommend(userid=userid_to_id[user_id], \n",
    "                                                                user_items=sparse_user_item,   # на вход user-item matrix\n",
    "                                                                N=5, \n",
    "                                                                filter_already_liked_items=False, \n",
    "                                                                filter_items=None, \n",
    "                                                                recalculate_user=True)\n",
    "                                                                             ])"
   ]
  },
  {
   "cell_type": "code",
   "execution_count": 31,
   "metadata": {
    "colab": {
     "base_uri": "https://localhost:8080/",
     "height": 580
    },
    "id": "wl9g3m1b4hbu",
    "outputId": "abc9d449-53d3-4384-dd20-b055416fbc05"
   },
   "outputs": [
    {
     "data": {
      "text/plain": "   user_id                                             actual  \\\n0        1  [821867, 834484, 856942, 865456, 889248, 90795...   \n1        3  [835476, 851057, 872021, 878302, 879948, 90963...   \n2        6  [920308, 926804, 946489, 1006718, 1017061, 107...   \n3        7  [840386, 889774, 898068, 909714, 929067, 95347...   \n4        8  [835098, 872137, 910439, 924610, 992977, 10412...   \n5        9  [864335, 990865, 1029743, 9297474, 10457112, 8...   \n6       13  [6534178, 1104146, 829197, 840361, 862070, 884...   \n7       14  [840601, 867293, 933067, 951590, 952408, 96569...   \n8       15  [910439, 1082185, 959076, 1023958, 1082310, 13...   \n9       16                       [1062973, 1082185, 13007710]   \n\n                            random_recommendation  \\\n0    [6045528, 12604278, 5565069, 1190222, 46533]   \n1    [38552, 10311387, 13006971, 1065380, 864214]   \n2        [959328, 965009, 994266, 955337, 966430]   \n3   [17171513, 906483, 1117669, 8062667, 8014960]   \n4  [2094016, 5740106, 8066552, 12810447, 1526340]   \n5     [880797, 949132, 1107075, 876102, 15973036]   \n6     [8357443, 6602312, 963566, 9676699, 858420]   \n7  [982908, 1025057, 12647938, 13115505, 5995228]   \n8    [788330, 921451, 1010578, 15973009, 9526996]   \n9  [1849083, 870877, 1044125, 13878848, 10118684]   \n\n                          popular_recommendation  \\\n0  [6534178, 6533889, 1029743, 6534166, 1082185]   \n1  [6534178, 6533889, 1029743, 6534166, 1082185]   \n2  [6534178, 6533889, 1029743, 6534166, 1082185]   \n3  [6534178, 6533889, 1029743, 6534166, 1082185]   \n4  [6534178, 6533889, 1029743, 6534166, 1082185]   \n5  [6534178, 6533889, 1029743, 6534166, 1082185]   \n6  [6534178, 6533889, 1029743, 6534166, 1082185]   \n7  [6534178, 6533889, 1029743, 6534166, 1082185]   \n8  [6534178, 6533889, 1029743, 6534166, 1082185]   \n9  [6534178, 6533889, 1029743, 6534166, 1082185]   \n\n                                   itemitem  \n0   [6666, 1082185, 981760, 995242, 840361]  \n1  [6666, 1082185, 981760, 1098066, 826249]  \n2   [6666, 1082185, 981760, 840361, 995242]  \n3   [6666, 1082185, 981760, 995242, 840361]  \n4   [6666, 1082185, 981760, 995242, 840361]  \n5  [6666, 1082185, 981760, 1098066, 995242]  \n6  [6666, 1082185, 981760, 840361, 1098066]  \n7  [6666, 1082185, 981760, 1098066, 995242]  \n8   [6666, 1082185, 981760, 995242, 840361]  \n9   [6666, 1082185, 981760, 840361, 995242]  ",
      "text/html": "<div>\n<style scoped>\n    .dataframe tbody tr th:only-of-type {\n        vertical-align: middle;\n    }\n\n    .dataframe tbody tr th {\n        vertical-align: top;\n    }\n\n    .dataframe thead th {\n        text-align: right;\n    }\n</style>\n<table border=\"1\" class=\"dataframe\">\n  <thead>\n    <tr style=\"text-align: right;\">\n      <th></th>\n      <th>user_id</th>\n      <th>actual</th>\n      <th>random_recommendation</th>\n      <th>popular_recommendation</th>\n      <th>itemitem</th>\n    </tr>\n  </thead>\n  <tbody>\n    <tr>\n      <th>0</th>\n      <td>1</td>\n      <td>[821867, 834484, 856942, 865456, 889248, 90795...</td>\n      <td>[6045528, 12604278, 5565069, 1190222, 46533]</td>\n      <td>[6534178, 6533889, 1029743, 6534166, 1082185]</td>\n      <td>[6666, 1082185, 981760, 995242, 840361]</td>\n    </tr>\n    <tr>\n      <th>1</th>\n      <td>3</td>\n      <td>[835476, 851057, 872021, 878302, 879948, 90963...</td>\n      <td>[38552, 10311387, 13006971, 1065380, 864214]</td>\n      <td>[6534178, 6533889, 1029743, 6534166, 1082185]</td>\n      <td>[6666, 1082185, 981760, 1098066, 826249]</td>\n    </tr>\n    <tr>\n      <th>2</th>\n      <td>6</td>\n      <td>[920308, 926804, 946489, 1006718, 1017061, 107...</td>\n      <td>[959328, 965009, 994266, 955337, 966430]</td>\n      <td>[6534178, 6533889, 1029743, 6534166, 1082185]</td>\n      <td>[6666, 1082185, 981760, 840361, 995242]</td>\n    </tr>\n    <tr>\n      <th>3</th>\n      <td>7</td>\n      <td>[840386, 889774, 898068, 909714, 929067, 95347...</td>\n      <td>[17171513, 906483, 1117669, 8062667, 8014960]</td>\n      <td>[6534178, 6533889, 1029743, 6534166, 1082185]</td>\n      <td>[6666, 1082185, 981760, 995242, 840361]</td>\n    </tr>\n    <tr>\n      <th>4</th>\n      <td>8</td>\n      <td>[835098, 872137, 910439, 924610, 992977, 10412...</td>\n      <td>[2094016, 5740106, 8066552, 12810447, 1526340]</td>\n      <td>[6534178, 6533889, 1029743, 6534166, 1082185]</td>\n      <td>[6666, 1082185, 981760, 995242, 840361]</td>\n    </tr>\n    <tr>\n      <th>5</th>\n      <td>9</td>\n      <td>[864335, 990865, 1029743, 9297474, 10457112, 8...</td>\n      <td>[880797, 949132, 1107075, 876102, 15973036]</td>\n      <td>[6534178, 6533889, 1029743, 6534166, 1082185]</td>\n      <td>[6666, 1082185, 981760, 1098066, 995242]</td>\n    </tr>\n    <tr>\n      <th>6</th>\n      <td>13</td>\n      <td>[6534178, 1104146, 829197, 840361, 862070, 884...</td>\n      <td>[8357443, 6602312, 963566, 9676699, 858420]</td>\n      <td>[6534178, 6533889, 1029743, 6534166, 1082185]</td>\n      <td>[6666, 1082185, 981760, 840361, 1098066]</td>\n    </tr>\n    <tr>\n      <th>7</th>\n      <td>14</td>\n      <td>[840601, 867293, 933067, 951590, 952408, 96569...</td>\n      <td>[982908, 1025057, 12647938, 13115505, 5995228]</td>\n      <td>[6534178, 6533889, 1029743, 6534166, 1082185]</td>\n      <td>[6666, 1082185, 981760, 1098066, 995242]</td>\n    </tr>\n    <tr>\n      <th>8</th>\n      <td>15</td>\n      <td>[910439, 1082185, 959076, 1023958, 1082310, 13...</td>\n      <td>[788330, 921451, 1010578, 15973009, 9526996]</td>\n      <td>[6534178, 6533889, 1029743, 6534166, 1082185]</td>\n      <td>[6666, 1082185, 981760, 995242, 840361]</td>\n    </tr>\n    <tr>\n      <th>9</th>\n      <td>16</td>\n      <td>[1062973, 1082185, 13007710]</td>\n      <td>[1849083, 870877, 1044125, 13878848, 10118684]</td>\n      <td>[6534178, 6533889, 1029743, 6534166, 1082185]</td>\n      <td>[6666, 1082185, 981760, 840361, 995242]</td>\n    </tr>\n  </tbody>\n</table>\n</div>"
     },
     "execution_count": 31,
     "metadata": {},
     "output_type": "execute_result"
    }
   ],
   "source": [
    "result.head(10)"
   ]
  },
  {
   "cell_type": "markdown",
   "metadata": {
    "id": "z5wsu4f74hbu"
   },
   "source": [
    "### 4.2 Косинусное сходство и CosineRecommender"
   ]
  },
  {
   "cell_type": "markdown",
   "metadata": {
    "id": "DXioc--K4hbu"
   },
   "source": [
    "![cosine_similarity.png](attachment:cosine_similarity.png)"
   ]
  },
  {
   "cell_type": "code",
   "execution_count": 32,
   "metadata": {
    "colab": {
     "base_uri": "https://localhost:8080/",
     "height": 84,
     "referenced_widgets": [
      "394c2464800f495097418ddac8cfea97",
      "6eccc0cbd55e4eba94c1ca3a60248726",
      "3d5719bcc3de4142a0ad453288eceb0b",
      "ca6fee138cb44e0284deaf52f2115544",
      "6e583888fa454f339a5a01b8008c06cb",
      "7511b2979f9040299692859d42f26af2",
      "afce056009b44557a9716b8cb3c01f84",
      "c0d84d121b0b4f088ebac483552a602e",
      "d03d07f2720c40f4b78db6ecd0f223f3",
      "07c1c4d9b1cf4ab7aa42a6674ea610fc",
      "833e0f70d26542e684ac39652c340002"
     ]
    },
    "id": "GDy0V3Cr4hbu",
    "outputId": "ca8225df-f029-40c7-9f76-d717a391f223"
   },
   "outputs": [
    {
     "data": {
      "text/plain": "  0%|          | 0/5001 [00:00<?, ?it/s]",
      "application/vnd.jupyter.widget-view+json": {
       "version_major": 2,
       "version_minor": 0,
       "model_id": "ac0f84c015ea472b8afcfe0167a12732"
      }
     },
     "metadata": {},
     "output_type": "display_data"
    },
    {
     "name": "stdout",
     "output_type": "stream",
     "text": [
      "CPU times: total: 3.67 s\n",
      "Wall time: 1.68 s\n"
     ]
    }
   ],
   "source": [
    "%%time\n",
    "\n",
    "model = CosineRecommender(K=1, num_threads=4) # K - кол-во билжайших соседей\n",
    "\n",
    "model.fit(csr_matrix(user_item_matrix).T.tocsr(), \n",
    "          show_progress=True)\n",
    "\n",
    "recs = model.recommend(userid=userid_to_id[1], \n",
    "                        user_items=csr_matrix(user_item_matrix).tocsr(),   # на вход user-item matrix\n",
    "                        N=5, \n",
    "                        filter_already_liked_items=False, \n",
    "                        filter_items=None, \n",
    "                        recalculate_user=False)"
   ]
  },
  {
   "cell_type": "code",
   "execution_count": 33,
   "metadata": {
    "colab": {
     "base_uri": "https://localhost:8080/"
    },
    "id": "Erbzwir04hbu",
    "outputId": "4aee05f6-f6c9-44a3-8ae0-811639dd9273"
   },
   "outputs": [
    {
     "data": {
      "text/plain": "[1082185, 1029743, 1081177, 904360, 6034857]"
     },
     "execution_count": 33,
     "metadata": {},
     "output_type": "execute_result"
    }
   ],
   "source": [
    "[id_to_itemid[rec[0]] for rec in recs]"
   ]
  },
  {
   "cell_type": "code",
   "execution_count": 34,
   "metadata": {
    "colab": {
     "base_uri": "https://localhost:8080/"
    },
    "id": "CRnT2HYS4hbv",
    "outputId": "3fb82421-b583-4cc6-93ca-330df4886498"
   },
   "outputs": [
    {
     "name": "stdout",
     "output_type": "stream",
     "text": [
      "CPU times: total: 93.8 ms\n",
      "Wall time: 94.7 ms\n"
     ]
    }
   ],
   "source": [
    "%%time\n",
    "\n",
    "result['cosine'] = result['user_id'].\\\n",
    "    apply(lambda x: [id_to_itemid[rec[0]] for rec in \n",
    "                    model.recommend(userid=userid_to_id[x], \n",
    "                                    user_items=sparse_user_item,   # на вход user-item matrix\n",
    "                                    N=5, \n",
    "                                    filter_already_liked_items=False, \n",
    "                                    filter_items=None, \n",
    "                                    recalculate_user=True)])"
   ]
  },
  {
   "cell_type": "code",
   "execution_count": 35,
   "metadata": {
    "colab": {
     "base_uri": "https://localhost:8080/",
     "height": 226
    },
    "id": "ntPO2url4hbv",
    "outputId": "0064dd86-13bb-476d-ee63-61551cfd1e9e"
   },
   "outputs": [
    {
     "data": {
      "text/plain": "   user_id                                             actual  \\\n0        1  [821867, 834484, 856942, 865456, 889248, 90795...   \n1        3  [835476, 851057, 872021, 878302, 879948, 90963...   \n\n                          random_recommendation  \\\n0  [6045528, 12604278, 5565069, 1190222, 46533]   \n1  [38552, 10311387, 13006971, 1065380, 864214]   \n\n                          popular_recommendation  \\\n0  [6534178, 6533889, 1029743, 6534166, 1082185]   \n1  [6534178, 6533889, 1029743, 6534166, 1082185]   \n\n                                   itemitem  \\\n0   [6666, 1082185, 981760, 995242, 840361]   \n1  [6666, 1082185, 981760, 1098066, 826249]   \n\n                                         cosine  \n0  [1082185, 1029743, 1081177, 904360, 6034857]  \n1   [1082185, 951590, 1044078, 9526410, 904360]  ",
      "text/html": "<div>\n<style scoped>\n    .dataframe tbody tr th:only-of-type {\n        vertical-align: middle;\n    }\n\n    .dataframe tbody tr th {\n        vertical-align: top;\n    }\n\n    .dataframe thead th {\n        text-align: right;\n    }\n</style>\n<table border=\"1\" class=\"dataframe\">\n  <thead>\n    <tr style=\"text-align: right;\">\n      <th></th>\n      <th>user_id</th>\n      <th>actual</th>\n      <th>random_recommendation</th>\n      <th>popular_recommendation</th>\n      <th>itemitem</th>\n      <th>cosine</th>\n    </tr>\n  </thead>\n  <tbody>\n    <tr>\n      <th>0</th>\n      <td>1</td>\n      <td>[821867, 834484, 856942, 865456, 889248, 90795...</td>\n      <td>[6045528, 12604278, 5565069, 1190222, 46533]</td>\n      <td>[6534178, 6533889, 1029743, 6534166, 1082185]</td>\n      <td>[6666, 1082185, 981760, 995242, 840361]</td>\n      <td>[1082185, 1029743, 1081177, 904360, 6034857]</td>\n    </tr>\n    <tr>\n      <th>1</th>\n      <td>3</td>\n      <td>[835476, 851057, 872021, 878302, 879948, 90963...</td>\n      <td>[38552, 10311387, 13006971, 1065380, 864214]</td>\n      <td>[6534178, 6533889, 1029743, 6534166, 1082185]</td>\n      <td>[6666, 1082185, 981760, 1098066, 826249]</td>\n      <td>[1082185, 951590, 1044078, 9526410, 904360]</td>\n    </tr>\n  </tbody>\n</table>\n</div>"
     },
     "execution_count": 35,
     "metadata": {},
     "output_type": "execute_result"
    }
   ],
   "source": [
    "result.head(2)"
   ]
  },
  {
   "cell_type": "markdown",
   "metadata": {
    "id": "FRyFhemG4hbv"
   },
   "source": [
    "### 4.3 TF-IDF взвешивание и TFIDFRecommender"
   ]
  },
  {
   "cell_type": "markdown",
   "metadata": {
    "id": "_89n-D8Q4hbv"
   },
   "source": [
    "![tf_idf.png](attachment:tf_idf.png)"
   ]
  },
  {
   "cell_type": "markdown",
   "metadata": {
    "id": "F7tetv8M4hbv"
   },
   "source": [
    "Если 2 юзера оба купили очень популярный товар, то это еще не значит,что они похожи   \n",
    "Если 2 юзера оба купили редкий товар, то они похожи\n",
    "\n",
    "Занижаем вес популярных товаров при расчете расстояний между пользователями"
   ]
  },
  {
   "cell_type": "code",
   "execution_count": 36,
   "metadata": {
    "colab": {
     "base_uri": "https://localhost:8080/",
     "height": 84,
     "referenced_widgets": [
      "dc6531d5bfe04af9a9ad4ff441db5e44",
      "ef793d1c303c4497949062f3a85cd5b9",
      "f5c31291ff5543a98da37ebd5640d4fb",
      "6e66bf7a6f654ed0ac7d8ae8ef569fc2",
      "098377e3704f48f9af7d623a87504d5c",
      "262dbad80ae544548d955b44f2cb4e47",
      "a707c7f73c75406884d8062393199810",
      "8820e465f209425e832092f4d34931aa",
      "37d1c628eafb4753a3aca24a78636375",
      "0e0646484dec4d3593197e1122577c03",
      "6d424effce2e418d86fa50934e7df4be"
     ]
    },
    "id": "tvUEPmLt4hbv",
    "outputId": "149b1dc1-9fce-483d-979c-e536b0491936"
   },
   "outputs": [
    {
     "data": {
      "text/plain": "  0%|          | 0/5001 [00:00<?, ?it/s]",
      "application/vnd.jupyter.widget-view+json": {
       "version_major": 2,
       "version_minor": 0,
       "model_id": "2f31622eecb842bcba00077f19da3080"
      }
     },
     "metadata": {},
     "output_type": "display_data"
    },
    {
     "name": "stdout",
     "output_type": "stream",
     "text": [
      "CPU times: total: 3.31 s\n",
      "Wall time: 1.33 s\n"
     ]
    }
   ],
   "source": [
    "%%time\n",
    "\n",
    "model = TFIDFRecommender(K=5, num_threads=4) # K - кол-во билжайших соседей\n",
    "\n",
    "model.fit(csr_matrix(user_item_matrix).T.tocsr(), \n",
    "          show_progress=True)\n",
    "\n",
    "recs = model.recommend(userid=userid_to_id[1], \n",
    "                        user_items=csr_matrix(user_item_matrix).tocsr(),   # на вход user-item matrix\n",
    "                        N=5, \n",
    "                        filter_already_liked_items=False, \n",
    "                        filter_items=None, \n",
    "                        recalculate_user=False)"
   ]
  },
  {
   "cell_type": "code",
   "execution_count": 37,
   "metadata": {
    "colab": {
     "base_uri": "https://localhost:8080/"
    },
    "id": "UXJ-tXPj4hbw",
    "outputId": "7d245d4b-659f-4b52-c7e6-c83fc020169f"
   },
   "outputs": [
    {
     "data": {
      "text/plain": "[1082185, 981760, 1127831, 6666, 1098066]"
     },
     "execution_count": 37,
     "metadata": {},
     "output_type": "execute_result"
    }
   ],
   "source": [
    "[id_to_itemid[rec[0]] for rec in recs]"
   ]
  },
  {
   "cell_type": "code",
   "execution_count": 38,
   "metadata": {
    "colab": {
     "base_uri": "https://localhost:8080/"
    },
    "id": "hhkCuLZA4hbw",
    "outputId": "ded907e1-70de-4b42-8429-4fae1c5e372a"
   },
   "outputs": [
    {
     "name": "stdout",
     "output_type": "stream",
     "text": [
      "CPU times: total: 93.8 ms\n",
      "Wall time: 89.8 ms\n"
     ]
    }
   ],
   "source": [
    "%%time\n",
    "\n",
    "result['tfidf'] = result['user_id'].\\\n",
    "    apply(lambda x: [id_to_itemid[rec[0]] for rec in \n",
    "                    model.recommend(userid=userid_to_id[x], \n",
    "                                    user_items=sparse_user_item,   # на вход user-item matrix\n",
    "                                    N=5, \n",
    "                                    filter_already_liked_items=False, \n",
    "                                    filter_items=False, \n",
    "                                    recalculate_user=False)])"
   ]
  },
  {
   "cell_type": "code",
   "execution_count": 39,
   "metadata": {
    "colab": {
     "base_uri": "https://localhost:8080/",
     "height": 424
    },
    "id": "Cmweun3G4hbw",
    "outputId": "d0784395-08c5-41f9-ee28-6a30be986b43"
   },
   "outputs": [
    {
     "data": {
      "text/plain": "   user_id                                             actual  \\\n0        1  [821867, 834484, 856942, 865456, 889248, 90795...   \n1        3  [835476, 851057, 872021, 878302, 879948, 90963...   \n2        6  [920308, 926804, 946489, 1006718, 1017061, 107...   \n3        7  [840386, 889774, 898068, 909714, 929067, 95347...   \n4        8  [835098, 872137, 910439, 924610, 992977, 10412...   \n\n                            random_recommendation  \\\n0    [6045528, 12604278, 5565069, 1190222, 46533]   \n1    [38552, 10311387, 13006971, 1065380, 864214]   \n2        [959328, 965009, 994266, 955337, 966430]   \n3   [17171513, 906483, 1117669, 8062667, 8014960]   \n4  [2094016, 5740106, 8066552, 12810447, 1526340]   \n\n                          popular_recommendation  \\\n0  [6534178, 6533889, 1029743, 6534166, 1082185]   \n1  [6534178, 6533889, 1029743, 6534166, 1082185]   \n2  [6534178, 6533889, 1029743, 6534166, 1082185]   \n3  [6534178, 6533889, 1029743, 6534166, 1082185]   \n4  [6534178, 6533889, 1029743, 6534166, 1082185]   \n\n                                   itemitem  \\\n0   [6666, 1082185, 981760, 995242, 840361]   \n1  [6666, 1082185, 981760, 1098066, 826249]   \n2   [6666, 1082185, 981760, 840361, 995242]   \n3   [6666, 1082185, 981760, 995242, 840361]   \n4   [6666, 1082185, 981760, 995242, 840361]   \n\n                                         cosine  \\\n0  [1082185, 1029743, 1081177, 904360, 6034857]   \n1   [1082185, 951590, 1044078, 9526410, 904360]   \n2   [1082185, 951590, 994928, 1029743, 1044078]   \n3  [1082185, 994928, 1044078, 1029743, 6034857]   \n4   [1082185, 854852, 951590, 1029743, 1044078]   \n\n                                       tfidf  \n0  [1082185, 981760, 1127831, 6666, 1098066]  \n1   [1082185, 981760, 1098066, 826249, 6666]  \n2   [1082185, 981760, 1127831, 6666, 878996]  \n3   [1082185, 981760, 1127831, 6666, 961554]  \n4   [1082185, 981760, 6666, 1098066, 826249]  ",
      "text/html": "<div>\n<style scoped>\n    .dataframe tbody tr th:only-of-type {\n        vertical-align: middle;\n    }\n\n    .dataframe tbody tr th {\n        vertical-align: top;\n    }\n\n    .dataframe thead th {\n        text-align: right;\n    }\n</style>\n<table border=\"1\" class=\"dataframe\">\n  <thead>\n    <tr style=\"text-align: right;\">\n      <th></th>\n      <th>user_id</th>\n      <th>actual</th>\n      <th>random_recommendation</th>\n      <th>popular_recommendation</th>\n      <th>itemitem</th>\n      <th>cosine</th>\n      <th>tfidf</th>\n    </tr>\n  </thead>\n  <tbody>\n    <tr>\n      <th>0</th>\n      <td>1</td>\n      <td>[821867, 834484, 856942, 865456, 889248, 90795...</td>\n      <td>[6045528, 12604278, 5565069, 1190222, 46533]</td>\n      <td>[6534178, 6533889, 1029743, 6534166, 1082185]</td>\n      <td>[6666, 1082185, 981760, 995242, 840361]</td>\n      <td>[1082185, 1029743, 1081177, 904360, 6034857]</td>\n      <td>[1082185, 981760, 1127831, 6666, 1098066]</td>\n    </tr>\n    <tr>\n      <th>1</th>\n      <td>3</td>\n      <td>[835476, 851057, 872021, 878302, 879948, 90963...</td>\n      <td>[38552, 10311387, 13006971, 1065380, 864214]</td>\n      <td>[6534178, 6533889, 1029743, 6534166, 1082185]</td>\n      <td>[6666, 1082185, 981760, 1098066, 826249]</td>\n      <td>[1082185, 951590, 1044078, 9526410, 904360]</td>\n      <td>[1082185, 981760, 1098066, 826249, 6666]</td>\n    </tr>\n    <tr>\n      <th>2</th>\n      <td>6</td>\n      <td>[920308, 926804, 946489, 1006718, 1017061, 107...</td>\n      <td>[959328, 965009, 994266, 955337, 966430]</td>\n      <td>[6534178, 6533889, 1029743, 6534166, 1082185]</td>\n      <td>[6666, 1082185, 981760, 840361, 995242]</td>\n      <td>[1082185, 951590, 994928, 1029743, 1044078]</td>\n      <td>[1082185, 981760, 1127831, 6666, 878996]</td>\n    </tr>\n    <tr>\n      <th>3</th>\n      <td>7</td>\n      <td>[840386, 889774, 898068, 909714, 929067, 95347...</td>\n      <td>[17171513, 906483, 1117669, 8062667, 8014960]</td>\n      <td>[6534178, 6533889, 1029743, 6534166, 1082185]</td>\n      <td>[6666, 1082185, 981760, 995242, 840361]</td>\n      <td>[1082185, 994928, 1044078, 1029743, 6034857]</td>\n      <td>[1082185, 981760, 1127831, 6666, 961554]</td>\n    </tr>\n    <tr>\n      <th>4</th>\n      <td>8</td>\n      <td>[835098, 872137, 910439, 924610, 992977, 10412...</td>\n      <td>[2094016, 5740106, 8066552, 12810447, 1526340]</td>\n      <td>[6534178, 6533889, 1029743, 6534166, 1082185]</td>\n      <td>[6666, 1082185, 981760, 995242, 840361]</td>\n      <td>[1082185, 854852, 951590, 1029743, 1044078]</td>\n      <td>[1082185, 981760, 6666, 1098066, 826249]</td>\n    </tr>\n  </tbody>\n</table>\n</div>"
     },
     "execution_count": 39,
     "metadata": {},
     "output_type": "execute_result"
    }
   ],
   "source": [
    "result.head(5)"
   ]
  },
  {
   "cell_type": "markdown",
   "metadata": {
    "id": "IsC54tXy4hbx"
   },
   "source": [
    "### 4.4 Трюк"
   ]
  },
  {
   "cell_type": "code",
   "execution_count": 40,
   "metadata": {
    "colab": {
     "base_uri": "https://localhost:8080/",
     "height": 84,
     "referenced_widgets": [
      "f3c669771cee41ba9bc01bcd7190843c",
      "772f16012b96477fb348f83d14bb247f",
      "11a9580580d0461cae52db39485ce6cd",
      "92d2255e83cb4391a7c724da27e47c6c",
      "0e45b7aea90f49acba1f0fd965242ee7",
      "54defa81630f4f31b7d69a16c5871fa4",
      "406dfca8f7b04bb1acb572bc4c04bcc4",
      "3f9982da0c7c405883f2a4c69d82c1e9",
      "44bf58f012524502bc1923eca9693088",
      "d83f3e60153e463ca591d6665eeb73ea",
      "b8422c7361714250a7bc75523f036440"
     ]
    },
    "id": "2N7h3md54hbx",
    "outputId": "59076431-d5a3-4f82-ab93-9f0486798bc2"
   },
   "outputs": [
    {
     "data": {
      "text/plain": "  0%|          | 0/5001 [00:00<?, ?it/s]",
      "application/vnd.jupyter.widget-view+json": {
       "version_major": 2,
       "version_minor": 0,
       "model_id": "d87ed0aa79ad482086d7dd037f0eecc2"
      }
     },
     "metadata": {},
     "output_type": "display_data"
    },
    {
     "name": "stdout",
     "output_type": "stream",
     "text": [
      "CPU times: total: 3.09 s\n",
      "Wall time: 1.12 s\n"
     ]
    }
   ],
   "source": [
    "%%time\n",
    "\n",
    "model = ItemItemRecommender(K=13, num_threads=4) # K - кол-во билжайших соседей\n",
    "\n",
    "\n",
    "model.fit(csr_matrix(user_item_matrix).T.tocsr(), \n",
    "          show_progress=True)"
   ]
  },
  {
   "cell_type": "code",
   "execution_count": 41,
   "metadata": {
    "scrolled": true,
    "colab": {
     "base_uri": "https://localhost:8080/"
    },
    "id": "ZIwXInq04hbx",
    "outputId": "129afb27-9ea7-4182-c00a-454223d015cb"
   },
   "outputs": [
    {
     "name": "stdout",
     "output_type": "stream",
     "text": [
      "CPU times: total: 266 ms\n",
      "Wall time: 140 ms\n"
     ]
    }
   ],
   "source": [
    "%%time\n",
    "\n",
    "result['own_purchases'] = result['user_id'].\\\n",
    "    apply(lambda x: [id_to_itemid[rec[0]] for rec in \n",
    "                    model.recommend(userid=userid_to_id[x], \n",
    "                                    user_items=sparse_user_item,   # на вход user-item matrix\n",
    "                                    N=5, \n",
    "                                    filter_already_liked_items=False, \n",
    "                                    filter_items=[itemid_to_id[6666]], \n",
    "                                    recalculate_user=True)])"
   ]
  },
  {
   "cell_type": "markdown",
   "metadata": {
    "id": "-p4YoDp74hby"
   },
   "source": [
    "### 4.5 Измерим качество по precision@5"
   ]
  },
  {
   "cell_type": "code",
   "execution_count": 42,
   "metadata": {
    "colab": {
     "base_uri": "https://localhost:8080/",
     "height": 597
    },
    "id": "kfbrhO644hby",
    "outputId": "40e9a45e-c49c-4271-bc4a-a5912c4f7770"
   },
   "outputs": [
    {
     "data": {
      "text/plain": "   user_id                                             actual  \\\n0        1  [821867, 834484, 856942, 865456, 889248, 90795...   \n1        3  [835476, 851057, 872021, 878302, 879948, 90963...   \n2        6  [920308, 926804, 946489, 1006718, 1017061, 107...   \n3        7  [840386, 889774, 898068, 909714, 929067, 95347...   \n4        8  [835098, 872137, 910439, 924610, 992977, 10412...   \n\n                            random_recommendation  \\\n0    [6045528, 12604278, 5565069, 1190222, 46533]   \n1    [38552, 10311387, 13006971, 1065380, 864214]   \n2        [959328, 965009, 994266, 955337, 966430]   \n3   [17171513, 906483, 1117669, 8062667, 8014960]   \n4  [2094016, 5740106, 8066552, 12810447, 1526340]   \n\n                          popular_recommendation  \\\n0  [6534178, 6533889, 1029743, 6534166, 1082185]   \n1  [6534178, 6533889, 1029743, 6534166, 1082185]   \n2  [6534178, 6533889, 1029743, 6534166, 1082185]   \n3  [6534178, 6533889, 1029743, 6534166, 1082185]   \n4  [6534178, 6533889, 1029743, 6534166, 1082185]   \n\n                                   itemitem  \\\n0   [6666, 1082185, 981760, 995242, 840361]   \n1  [6666, 1082185, 981760, 1098066, 826249]   \n2   [6666, 1082185, 981760, 840361, 995242]   \n3   [6666, 1082185, 981760, 995242, 840361]   \n4   [6666, 1082185, 981760, 995242, 840361]   \n\n                                         cosine  \\\n0  [1082185, 1029743, 1081177, 904360, 6034857]   \n1   [1082185, 951590, 1044078, 9526410, 904360]   \n2   [1082185, 951590, 994928, 1029743, 1044078]   \n3  [1082185, 994928, 1044078, 1029743, 6034857]   \n4   [1082185, 854852, 951590, 1029743, 1044078]   \n\n                                       tfidf  \\\n0  [1082185, 981760, 1127831, 6666, 1098066]   \n1   [1082185, 981760, 1098066, 826249, 6666]   \n2   [1082185, 981760, 1127831, 6666, 878996]   \n3   [1082185, 981760, 1127831, 6666, 961554]   \n4   [1082185, 981760, 6666, 1098066, 826249]   \n\n                                own_purchases  \n0  [1082185, 981760, 995242, 840361, 1127831]  \n1  [1082185, 981760, 1098066, 826249, 995242]  \n2  [1082185, 981760, 840361, 995242, 1127831]  \n3  [1082185, 981760, 995242, 840361, 1098066]  \n4  [1082185, 981760, 995242, 840361, 1098066]  ",
      "text/html": "<div>\n<style scoped>\n    .dataframe tbody tr th:only-of-type {\n        vertical-align: middle;\n    }\n\n    .dataframe tbody tr th {\n        vertical-align: top;\n    }\n\n    .dataframe thead th {\n        text-align: right;\n    }\n</style>\n<table border=\"1\" class=\"dataframe\">\n  <thead>\n    <tr style=\"text-align: right;\">\n      <th></th>\n      <th>user_id</th>\n      <th>actual</th>\n      <th>random_recommendation</th>\n      <th>popular_recommendation</th>\n      <th>itemitem</th>\n      <th>cosine</th>\n      <th>tfidf</th>\n      <th>own_purchases</th>\n    </tr>\n  </thead>\n  <tbody>\n    <tr>\n      <th>0</th>\n      <td>1</td>\n      <td>[821867, 834484, 856942, 865456, 889248, 90795...</td>\n      <td>[6045528, 12604278, 5565069, 1190222, 46533]</td>\n      <td>[6534178, 6533889, 1029743, 6534166, 1082185]</td>\n      <td>[6666, 1082185, 981760, 995242, 840361]</td>\n      <td>[1082185, 1029743, 1081177, 904360, 6034857]</td>\n      <td>[1082185, 981760, 1127831, 6666, 1098066]</td>\n      <td>[1082185, 981760, 995242, 840361, 1127831]</td>\n    </tr>\n    <tr>\n      <th>1</th>\n      <td>3</td>\n      <td>[835476, 851057, 872021, 878302, 879948, 90963...</td>\n      <td>[38552, 10311387, 13006971, 1065380, 864214]</td>\n      <td>[6534178, 6533889, 1029743, 6534166, 1082185]</td>\n      <td>[6666, 1082185, 981760, 1098066, 826249]</td>\n      <td>[1082185, 951590, 1044078, 9526410, 904360]</td>\n      <td>[1082185, 981760, 1098066, 826249, 6666]</td>\n      <td>[1082185, 981760, 1098066, 826249, 995242]</td>\n    </tr>\n    <tr>\n      <th>2</th>\n      <td>6</td>\n      <td>[920308, 926804, 946489, 1006718, 1017061, 107...</td>\n      <td>[959328, 965009, 994266, 955337, 966430]</td>\n      <td>[6534178, 6533889, 1029743, 6534166, 1082185]</td>\n      <td>[6666, 1082185, 981760, 840361, 995242]</td>\n      <td>[1082185, 951590, 994928, 1029743, 1044078]</td>\n      <td>[1082185, 981760, 1127831, 6666, 878996]</td>\n      <td>[1082185, 981760, 840361, 995242, 1127831]</td>\n    </tr>\n    <tr>\n      <th>3</th>\n      <td>7</td>\n      <td>[840386, 889774, 898068, 909714, 929067, 95347...</td>\n      <td>[17171513, 906483, 1117669, 8062667, 8014960]</td>\n      <td>[6534178, 6533889, 1029743, 6534166, 1082185]</td>\n      <td>[6666, 1082185, 981760, 995242, 840361]</td>\n      <td>[1082185, 994928, 1044078, 1029743, 6034857]</td>\n      <td>[1082185, 981760, 1127831, 6666, 961554]</td>\n      <td>[1082185, 981760, 995242, 840361, 1098066]</td>\n    </tr>\n    <tr>\n      <th>4</th>\n      <td>8</td>\n      <td>[835098, 872137, 910439, 924610, 992977, 10412...</td>\n      <td>[2094016, 5740106, 8066552, 12810447, 1526340]</td>\n      <td>[6534178, 6533889, 1029743, 6534166, 1082185]</td>\n      <td>[6666, 1082185, 981760, 995242, 840361]</td>\n      <td>[1082185, 854852, 951590, 1029743, 1044078]</td>\n      <td>[1082185, 981760, 6666, 1098066, 826249]</td>\n      <td>[1082185, 981760, 995242, 840361, 1098066]</td>\n    </tr>\n  </tbody>\n</table>\n</div>"
     },
     "execution_count": 42,
     "metadata": {},
     "output_type": "execute_result"
    }
   ],
   "source": [
    "result.head(5)"
   ]
  },
  {
   "cell_type": "code",
   "source": [
    "!python metrics.py"
   ],
   "metadata": {
    "id": "H5jXkE16B3Uf"
   },
   "execution_count": 43,
   "outputs": []
  },
  {
   "cell_type": "code",
   "execution_count": 44,
   "metadata": {
    "id": "tt5uvkq-4hby"
   },
   "outputs": [],
   "source": [
    "# Функции из 1-ого вебинара\n",
    "import os, sys\n",
    "    \n",
    "from metrics import precision_at_k, recall_at_k"
   ]
  },
  {
   "cell_type": "markdown",
   "metadata": {
    "id": "HEcTDsZE4hby"
   },
   "source": [
    "# Metrics"
   ]
  },
  {
   "cell_type": "code",
   "execution_count": 45,
   "metadata": {
    "colab": {
     "base_uri": "https://localhost:8080/"
    },
    "id": "uQ3hQHM94hby",
    "outputId": "48bd05ca-c91c-4733-def1-cb0b1975874c"
   },
   "outputs": [
    {
     "name": "stdout",
     "output_type": "stream",
     "text": [
      "1.0:actual\n",
      "0.0009:random_recommendation\n",
      "0.1552:popular_recommendation\n",
      "0.1532:itemitem\n",
      "0.1728:cosine\n",
      "0.139:tfidf\n",
      "0.1663:own_purchases\n"
     ]
    }
   ],
   "source": [
    "for name_col in result.columns[1:]:\n",
    "    print(f\"{round(result.apply(lambda row: precision_at_k(row[name_col], row['actual']), axis=1).mean(),4)}:{name_col}\")"
   ]
  },
  {
   "cell_type": "markdown",
   "metadata": {
    "id": "y1z5dtQ-4hbz"
   },
   "source": [
    "# Articles"
   ]
  },
  {
   "cell_type": "markdown",
   "metadata": {
    "id": "yPEquxRe4hbz"
   },
   "source": [
    "https://www.cs.umd.edu/~samir/498/Amazon-Recommendations.pdf\n",
    "\n",
    "https://en.wikipedia.org/wiki/Collaborative_filtering\n",
    "\n",
    "https://core.ac.uk/download/pdf/83041762.pdf\n",
    "\n",
    "\n",
    "\n",
    "User-based and item-based CF explanation\n",
    "\n",
    "https://medium.com/@cfpinela/recommender-systems-user-based-and-item-based-collaborative-filtering-5d5f375a127f"
   ]
  },
  {
   "cell_type": "code",
   "execution_count": 45,
   "metadata": {
    "id": "JguE_amO4hbz"
   },
   "outputs": [],
   "source": [
    ""
   ]
  }
 ],
 "metadata": {
  "kernelspec": {
   "display_name": "Python 3",
   "language": "python",
   "name": "python3"
  },
  "language_info": {
   "codemirror_mode": {
    "name": "ipython",
    "version": 3
   },
   "file_extension": ".py",
   "mimetype": "text/x-python",
   "name": "python",
   "nbconvert_exporter": "python",
   "pygments_lexer": "ipython3",
   "version": "3.8.8"
  },
  "colab": {
   "name": "webinar_2.ipynb",
   "provenance": [],
   "collapsed_sections": [
    "Rb5-_uIV4hbp"
   ]
  },
  "widgets": {
   "application/vnd.jupyter.widget-state+json": {
    "153203a5d7e049458194bcc6d50f1d7d": {
     "model_module": "@jupyter-widgets/controls",
     "model_name": "HBoxModel",
     "model_module_version": "1.5.0",
     "state": {
      "_dom_classes": [],
      "_model_module": "@jupyter-widgets/controls",
      "_model_module_version": "1.5.0",
      "_model_name": "HBoxModel",
      "_view_count": null,
      "_view_module": "@jupyter-widgets/controls",
      "_view_module_version": "1.5.0",
      "_view_name": "HBoxView",
      "box_style": "",
      "children": [
       "IPY_MODEL_353afd79170740dbab7b1e68a4534fa5",
       "IPY_MODEL_efc29db9e9214b41ad5b0e7bbf71c5f7",
       "IPY_MODEL_abdfcd33ea9f4bbfbc54c6026aee4039"
      ],
      "layout": "IPY_MODEL_c0ed62c55a034dc39710bb5b8122d84f"
     }
    },
    "353afd79170740dbab7b1e68a4534fa5": {
     "model_module": "@jupyter-widgets/controls",
     "model_name": "HTMLModel",
     "model_module_version": "1.5.0",
     "state": {
      "_dom_classes": [],
      "_model_module": "@jupyter-widgets/controls",
      "_model_module_version": "1.5.0",
      "_model_name": "HTMLModel",
      "_view_count": null,
      "_view_module": "@jupyter-widgets/controls",
      "_view_module_version": "1.5.0",
      "_view_name": "HTMLView",
      "description": "",
      "description_tooltip": null,
      "layout": "IPY_MODEL_6bef71fe8798458fb429a618ce714386",
      "placeholder": "​",
      "style": "IPY_MODEL_180ef7ce80f4407e8906420e28e50e19",
      "value": "100%"
     }
    },
    "efc29db9e9214b41ad5b0e7bbf71c5f7": {
     "model_module": "@jupyter-widgets/controls",
     "model_name": "FloatProgressModel",
     "model_module_version": "1.5.0",
     "state": {
      "_dom_classes": [],
      "_model_module": "@jupyter-widgets/controls",
      "_model_module_version": "1.5.0",
      "_model_name": "FloatProgressModel",
      "_view_count": null,
      "_view_module": "@jupyter-widgets/controls",
      "_view_module_version": "1.5.0",
      "_view_name": "ProgressView",
      "bar_style": "success",
      "description": "",
      "description_tooltip": null,
      "layout": "IPY_MODEL_616b8f4fd9874940ad593463cf18f299",
      "max": 5001,
      "min": 0,
      "orientation": "horizontal",
      "style": "IPY_MODEL_85cf5475a3904b32a200fd529a187160",
      "value": 5001
     }
    },
    "abdfcd33ea9f4bbfbc54c6026aee4039": {
     "model_module": "@jupyter-widgets/controls",
     "model_name": "HTMLModel",
     "model_module_version": "1.5.0",
     "state": {
      "_dom_classes": [],
      "_model_module": "@jupyter-widgets/controls",
      "_model_module_version": "1.5.0",
      "_model_name": "HTMLModel",
      "_view_count": null,
      "_view_module": "@jupyter-widgets/controls",
      "_view_module_version": "1.5.0",
      "_view_name": "HTMLView",
      "description": "",
      "description_tooltip": null,
      "layout": "IPY_MODEL_3ec99fb4e69c47f094b39f9b625d91a5",
      "placeholder": "​",
      "style": "IPY_MODEL_bfdd7a4a79994bddb2f896ba1f62c695",
      "value": " 5001/5001 [00:02&lt;00:00, 2408.11it/s]"
     }
    },
    "c0ed62c55a034dc39710bb5b8122d84f": {
     "model_module": "@jupyter-widgets/base",
     "model_name": "LayoutModel",
     "model_module_version": "1.2.0",
     "state": {
      "_model_module": "@jupyter-widgets/base",
      "_model_module_version": "1.2.0",
      "_model_name": "LayoutModel",
      "_view_count": null,
      "_view_module": "@jupyter-widgets/base",
      "_view_module_version": "1.2.0",
      "_view_name": "LayoutView",
      "align_content": null,
      "align_items": null,
      "align_self": null,
      "border": null,
      "bottom": null,
      "display": null,
      "flex": null,
      "flex_flow": null,
      "grid_area": null,
      "grid_auto_columns": null,
      "grid_auto_flow": null,
      "grid_auto_rows": null,
      "grid_column": null,
      "grid_gap": null,
      "grid_row": null,
      "grid_template_areas": null,
      "grid_template_columns": null,
      "grid_template_rows": null,
      "height": null,
      "justify_content": null,
      "justify_items": null,
      "left": null,
      "margin": null,
      "max_height": null,
      "max_width": null,
      "min_height": null,
      "min_width": null,
      "object_fit": null,
      "object_position": null,
      "order": null,
      "overflow": null,
      "overflow_x": null,
      "overflow_y": null,
      "padding": null,
      "right": null,
      "top": null,
      "visibility": null,
      "width": null
     }
    },
    "6bef71fe8798458fb429a618ce714386": {
     "model_module": "@jupyter-widgets/base",
     "model_name": "LayoutModel",
     "model_module_version": "1.2.0",
     "state": {
      "_model_module": "@jupyter-widgets/base",
      "_model_module_version": "1.2.0",
      "_model_name": "LayoutModel",
      "_view_count": null,
      "_view_module": "@jupyter-widgets/base",
      "_view_module_version": "1.2.0",
      "_view_name": "LayoutView",
      "align_content": null,
      "align_items": null,
      "align_self": null,
      "border": null,
      "bottom": null,
      "display": null,
      "flex": null,
      "flex_flow": null,
      "grid_area": null,
      "grid_auto_columns": null,
      "grid_auto_flow": null,
      "grid_auto_rows": null,
      "grid_column": null,
      "grid_gap": null,
      "grid_row": null,
      "grid_template_areas": null,
      "grid_template_columns": null,
      "grid_template_rows": null,
      "height": null,
      "justify_content": null,
      "justify_items": null,
      "left": null,
      "margin": null,
      "max_height": null,
      "max_width": null,
      "min_height": null,
      "min_width": null,
      "object_fit": null,
      "object_position": null,
      "order": null,
      "overflow": null,
      "overflow_x": null,
      "overflow_y": null,
      "padding": null,
      "right": null,
      "top": null,
      "visibility": null,
      "width": null
     }
    },
    "180ef7ce80f4407e8906420e28e50e19": {
     "model_module": "@jupyter-widgets/controls",
     "model_name": "DescriptionStyleModel",
     "model_module_version": "1.5.0",
     "state": {
      "_model_module": "@jupyter-widgets/controls",
      "_model_module_version": "1.5.0",
      "_model_name": "DescriptionStyleModel",
      "_view_count": null,
      "_view_module": "@jupyter-widgets/base",
      "_view_module_version": "1.2.0",
      "_view_name": "StyleView",
      "description_width": ""
     }
    },
    "616b8f4fd9874940ad593463cf18f299": {
     "model_module": "@jupyter-widgets/base",
     "model_name": "LayoutModel",
     "model_module_version": "1.2.0",
     "state": {
      "_model_module": "@jupyter-widgets/base",
      "_model_module_version": "1.2.0",
      "_model_name": "LayoutModel",
      "_view_count": null,
      "_view_module": "@jupyter-widgets/base",
      "_view_module_version": "1.2.0",
      "_view_name": "LayoutView",
      "align_content": null,
      "align_items": null,
      "align_self": null,
      "border": null,
      "bottom": null,
      "display": null,
      "flex": null,
      "flex_flow": null,
      "grid_area": null,
      "grid_auto_columns": null,
      "grid_auto_flow": null,
      "grid_auto_rows": null,
      "grid_column": null,
      "grid_gap": null,
      "grid_row": null,
      "grid_template_areas": null,
      "grid_template_columns": null,
      "grid_template_rows": null,
      "height": null,
      "justify_content": null,
      "justify_items": null,
      "left": null,
      "margin": null,
      "max_height": null,
      "max_width": null,
      "min_height": null,
      "min_width": null,
      "object_fit": null,
      "object_position": null,
      "order": null,
      "overflow": null,
      "overflow_x": null,
      "overflow_y": null,
      "padding": null,
      "right": null,
      "top": null,
      "visibility": null,
      "width": null
     }
    },
    "85cf5475a3904b32a200fd529a187160": {
     "model_module": "@jupyter-widgets/controls",
     "model_name": "ProgressStyleModel",
     "model_module_version": "1.5.0",
     "state": {
      "_model_module": "@jupyter-widgets/controls",
      "_model_module_version": "1.5.0",
      "_model_name": "ProgressStyleModel",
      "_view_count": null,
      "_view_module": "@jupyter-widgets/base",
      "_view_module_version": "1.2.0",
      "_view_name": "StyleView",
      "bar_color": null,
      "description_width": ""
     }
    },
    "3ec99fb4e69c47f094b39f9b625d91a5": {
     "model_module": "@jupyter-widgets/base",
     "model_name": "LayoutModel",
     "model_module_version": "1.2.0",
     "state": {
      "_model_module": "@jupyter-widgets/base",
      "_model_module_version": "1.2.0",
      "_model_name": "LayoutModel",
      "_view_count": null,
      "_view_module": "@jupyter-widgets/base",
      "_view_module_version": "1.2.0",
      "_view_name": "LayoutView",
      "align_content": null,
      "align_items": null,
      "align_self": null,
      "border": null,
      "bottom": null,
      "display": null,
      "flex": null,
      "flex_flow": null,
      "grid_area": null,
      "grid_auto_columns": null,
      "grid_auto_flow": null,
      "grid_auto_rows": null,
      "grid_column": null,
      "grid_gap": null,
      "grid_row": null,
      "grid_template_areas": null,
      "grid_template_columns": null,
      "grid_template_rows": null,
      "height": null,
      "justify_content": null,
      "justify_items": null,
      "left": null,
      "margin": null,
      "max_height": null,
      "max_width": null,
      "min_height": null,
      "min_width": null,
      "object_fit": null,
      "object_position": null,
      "order": null,
      "overflow": null,
      "overflow_x": null,
      "overflow_y": null,
      "padding": null,
      "right": null,
      "top": null,
      "visibility": null,
      "width": null
     }
    },
    "bfdd7a4a79994bddb2f896ba1f62c695": {
     "model_module": "@jupyter-widgets/controls",
     "model_name": "DescriptionStyleModel",
     "model_module_version": "1.5.0",
     "state": {
      "_model_module": "@jupyter-widgets/controls",
      "_model_module_version": "1.5.0",
      "_model_name": "DescriptionStyleModel",
      "_view_count": null,
      "_view_module": "@jupyter-widgets/base",
      "_view_module_version": "1.2.0",
      "_view_name": "StyleView",
      "description_width": ""
     }
    },
    "394c2464800f495097418ddac8cfea97": {
     "model_module": "@jupyter-widgets/controls",
     "model_name": "HBoxModel",
     "model_module_version": "1.5.0",
     "state": {
      "_dom_classes": [],
      "_model_module": "@jupyter-widgets/controls",
      "_model_module_version": "1.5.0",
      "_model_name": "HBoxModel",
      "_view_count": null,
      "_view_module": "@jupyter-widgets/controls",
      "_view_module_version": "1.5.0",
      "_view_name": "HBoxView",
      "box_style": "",
      "children": [
       "IPY_MODEL_6eccc0cbd55e4eba94c1ca3a60248726",
       "IPY_MODEL_3d5719bcc3de4142a0ad453288eceb0b",
       "IPY_MODEL_ca6fee138cb44e0284deaf52f2115544"
      ],
      "layout": "IPY_MODEL_6e583888fa454f339a5a01b8008c06cb"
     }
    },
    "6eccc0cbd55e4eba94c1ca3a60248726": {
     "model_module": "@jupyter-widgets/controls",
     "model_name": "HTMLModel",
     "model_module_version": "1.5.0",
     "state": {
      "_dom_classes": [],
      "_model_module": "@jupyter-widgets/controls",
      "_model_module_version": "1.5.0",
      "_model_name": "HTMLModel",
      "_view_count": null,
      "_view_module": "@jupyter-widgets/controls",
      "_view_module_version": "1.5.0",
      "_view_name": "HTMLView",
      "description": "",
      "description_tooltip": null,
      "layout": "IPY_MODEL_7511b2979f9040299692859d42f26af2",
      "placeholder": "​",
      "style": "IPY_MODEL_afce056009b44557a9716b8cb3c01f84",
      "value": "100%"
     }
    },
    "3d5719bcc3de4142a0ad453288eceb0b": {
     "model_module": "@jupyter-widgets/controls",
     "model_name": "FloatProgressModel",
     "model_module_version": "1.5.0",
     "state": {
      "_dom_classes": [],
      "_model_module": "@jupyter-widgets/controls",
      "_model_module_version": "1.5.0",
      "_model_name": "FloatProgressModel",
      "_view_count": null,
      "_view_module": "@jupyter-widgets/controls",
      "_view_module_version": "1.5.0",
      "_view_name": "ProgressView",
      "bar_style": "success",
      "description": "",
      "description_tooltip": null,
      "layout": "IPY_MODEL_c0d84d121b0b4f088ebac483552a602e",
      "max": 5001,
      "min": 0,
      "orientation": "horizontal",
      "style": "IPY_MODEL_d03d07f2720c40f4b78db6ecd0f223f3",
      "value": 5001
     }
    },
    "ca6fee138cb44e0284deaf52f2115544": {
     "model_module": "@jupyter-widgets/controls",
     "model_name": "HTMLModel",
     "model_module_version": "1.5.0",
     "state": {
      "_dom_classes": [],
      "_model_module": "@jupyter-widgets/controls",
      "_model_module_version": "1.5.0",
      "_model_name": "HTMLModel",
      "_view_count": null,
      "_view_module": "@jupyter-widgets/controls",
      "_view_module_version": "1.5.0",
      "_view_name": "HTMLView",
      "description": "",
      "description_tooltip": null,
      "layout": "IPY_MODEL_07c1c4d9b1cf4ab7aa42a6674ea610fc",
      "placeholder": "​",
      "style": "IPY_MODEL_833e0f70d26542e684ac39652c340002",
      "value": " 5001/5001 [00:02&lt;00:00, 2195.46it/s]"
     }
    },
    "6e583888fa454f339a5a01b8008c06cb": {
     "model_module": "@jupyter-widgets/base",
     "model_name": "LayoutModel",
     "model_module_version": "1.2.0",
     "state": {
      "_model_module": "@jupyter-widgets/base",
      "_model_module_version": "1.2.0",
      "_model_name": "LayoutModel",
      "_view_count": null,
      "_view_module": "@jupyter-widgets/base",
      "_view_module_version": "1.2.0",
      "_view_name": "LayoutView",
      "align_content": null,
      "align_items": null,
      "align_self": null,
      "border": null,
      "bottom": null,
      "display": null,
      "flex": null,
      "flex_flow": null,
      "grid_area": null,
      "grid_auto_columns": null,
      "grid_auto_flow": null,
      "grid_auto_rows": null,
      "grid_column": null,
      "grid_gap": null,
      "grid_row": null,
      "grid_template_areas": null,
      "grid_template_columns": null,
      "grid_template_rows": null,
      "height": null,
      "justify_content": null,
      "justify_items": null,
      "left": null,
      "margin": null,
      "max_height": null,
      "max_width": null,
      "min_height": null,
      "min_width": null,
      "object_fit": null,
      "object_position": null,
      "order": null,
      "overflow": null,
      "overflow_x": null,
      "overflow_y": null,
      "padding": null,
      "right": null,
      "top": null,
      "visibility": null,
      "width": null
     }
    },
    "7511b2979f9040299692859d42f26af2": {
     "model_module": "@jupyter-widgets/base",
     "model_name": "LayoutModel",
     "model_module_version": "1.2.0",
     "state": {
      "_model_module": "@jupyter-widgets/base",
      "_model_module_version": "1.2.0",
      "_model_name": "LayoutModel",
      "_view_count": null,
      "_view_module": "@jupyter-widgets/base",
      "_view_module_version": "1.2.0",
      "_view_name": "LayoutView",
      "align_content": null,
      "align_items": null,
      "align_self": null,
      "border": null,
      "bottom": null,
      "display": null,
      "flex": null,
      "flex_flow": null,
      "grid_area": null,
      "grid_auto_columns": null,
      "grid_auto_flow": null,
      "grid_auto_rows": null,
      "grid_column": null,
      "grid_gap": null,
      "grid_row": null,
      "grid_template_areas": null,
      "grid_template_columns": null,
      "grid_template_rows": null,
      "height": null,
      "justify_content": null,
      "justify_items": null,
      "left": null,
      "margin": null,
      "max_height": null,
      "max_width": null,
      "min_height": null,
      "min_width": null,
      "object_fit": null,
      "object_position": null,
      "order": null,
      "overflow": null,
      "overflow_x": null,
      "overflow_y": null,
      "padding": null,
      "right": null,
      "top": null,
      "visibility": null,
      "width": null
     }
    },
    "afce056009b44557a9716b8cb3c01f84": {
     "model_module": "@jupyter-widgets/controls",
     "model_name": "DescriptionStyleModel",
     "model_module_version": "1.5.0",
     "state": {
      "_model_module": "@jupyter-widgets/controls",
      "_model_module_version": "1.5.0",
      "_model_name": "DescriptionStyleModel",
      "_view_count": null,
      "_view_module": "@jupyter-widgets/base",
      "_view_module_version": "1.2.0",
      "_view_name": "StyleView",
      "description_width": ""
     }
    },
    "c0d84d121b0b4f088ebac483552a602e": {
     "model_module": "@jupyter-widgets/base",
     "model_name": "LayoutModel",
     "model_module_version": "1.2.0",
     "state": {
      "_model_module": "@jupyter-widgets/base",
      "_model_module_version": "1.2.0",
      "_model_name": "LayoutModel",
      "_view_count": null,
      "_view_module": "@jupyter-widgets/base",
      "_view_module_version": "1.2.0",
      "_view_name": "LayoutView",
      "align_content": null,
      "align_items": null,
      "align_self": null,
      "border": null,
      "bottom": null,
      "display": null,
      "flex": null,
      "flex_flow": null,
      "grid_area": null,
      "grid_auto_columns": null,
      "grid_auto_flow": null,
      "grid_auto_rows": null,
      "grid_column": null,
      "grid_gap": null,
      "grid_row": null,
      "grid_template_areas": null,
      "grid_template_columns": null,
      "grid_template_rows": null,
      "height": null,
      "justify_content": null,
      "justify_items": null,
      "left": null,
      "margin": null,
      "max_height": null,
      "max_width": null,
      "min_height": null,
      "min_width": null,
      "object_fit": null,
      "object_position": null,
      "order": null,
      "overflow": null,
      "overflow_x": null,
      "overflow_y": null,
      "padding": null,
      "right": null,
      "top": null,
      "visibility": null,
      "width": null
     }
    },
    "d03d07f2720c40f4b78db6ecd0f223f3": {
     "model_module": "@jupyter-widgets/controls",
     "model_name": "ProgressStyleModel",
     "model_module_version": "1.5.0",
     "state": {
      "_model_module": "@jupyter-widgets/controls",
      "_model_module_version": "1.5.0",
      "_model_name": "ProgressStyleModel",
      "_view_count": null,
      "_view_module": "@jupyter-widgets/base",
      "_view_module_version": "1.2.0",
      "_view_name": "StyleView",
      "bar_color": null,
      "description_width": ""
     }
    },
    "07c1c4d9b1cf4ab7aa42a6674ea610fc": {
     "model_module": "@jupyter-widgets/base",
     "model_name": "LayoutModel",
     "model_module_version": "1.2.0",
     "state": {
      "_model_module": "@jupyter-widgets/base",
      "_model_module_version": "1.2.0",
      "_model_name": "LayoutModel",
      "_view_count": null,
      "_view_module": "@jupyter-widgets/base",
      "_view_module_version": "1.2.0",
      "_view_name": "LayoutView",
      "align_content": null,
      "align_items": null,
      "align_self": null,
      "border": null,
      "bottom": null,
      "display": null,
      "flex": null,
      "flex_flow": null,
      "grid_area": null,
      "grid_auto_columns": null,
      "grid_auto_flow": null,
      "grid_auto_rows": null,
      "grid_column": null,
      "grid_gap": null,
      "grid_row": null,
      "grid_template_areas": null,
      "grid_template_columns": null,
      "grid_template_rows": null,
      "height": null,
      "justify_content": null,
      "justify_items": null,
      "left": null,
      "margin": null,
      "max_height": null,
      "max_width": null,
      "min_height": null,
      "min_width": null,
      "object_fit": null,
      "object_position": null,
      "order": null,
      "overflow": null,
      "overflow_x": null,
      "overflow_y": null,
      "padding": null,
      "right": null,
      "top": null,
      "visibility": null,
      "width": null
     }
    },
    "833e0f70d26542e684ac39652c340002": {
     "model_module": "@jupyter-widgets/controls",
     "model_name": "DescriptionStyleModel",
     "model_module_version": "1.5.0",
     "state": {
      "_model_module": "@jupyter-widgets/controls",
      "_model_module_version": "1.5.0",
      "_model_name": "DescriptionStyleModel",
      "_view_count": null,
      "_view_module": "@jupyter-widgets/base",
      "_view_module_version": "1.2.0",
      "_view_name": "StyleView",
      "description_width": ""
     }
    },
    "dc6531d5bfe04af9a9ad4ff441db5e44": {
     "model_module": "@jupyter-widgets/controls",
     "model_name": "HBoxModel",
     "model_module_version": "1.5.0",
     "state": {
      "_dom_classes": [],
      "_model_module": "@jupyter-widgets/controls",
      "_model_module_version": "1.5.0",
      "_model_name": "HBoxModel",
      "_view_count": null,
      "_view_module": "@jupyter-widgets/controls",
      "_view_module_version": "1.5.0",
      "_view_name": "HBoxView",
      "box_style": "",
      "children": [
       "IPY_MODEL_ef793d1c303c4497949062f3a85cd5b9",
       "IPY_MODEL_f5c31291ff5543a98da37ebd5640d4fb",
       "IPY_MODEL_6e66bf7a6f654ed0ac7d8ae8ef569fc2"
      ],
      "layout": "IPY_MODEL_098377e3704f48f9af7d623a87504d5c"
     }
    },
    "ef793d1c303c4497949062f3a85cd5b9": {
     "model_module": "@jupyter-widgets/controls",
     "model_name": "HTMLModel",
     "model_module_version": "1.5.0",
     "state": {
      "_dom_classes": [],
      "_model_module": "@jupyter-widgets/controls",
      "_model_module_version": "1.5.0",
      "_model_name": "HTMLModel",
      "_view_count": null,
      "_view_module": "@jupyter-widgets/controls",
      "_view_module_version": "1.5.0",
      "_view_name": "HTMLView",
      "description": "",
      "description_tooltip": null,
      "layout": "IPY_MODEL_262dbad80ae544548d955b44f2cb4e47",
      "placeholder": "​",
      "style": "IPY_MODEL_a707c7f73c75406884d8062393199810",
      "value": "100%"
     }
    },
    "f5c31291ff5543a98da37ebd5640d4fb": {
     "model_module": "@jupyter-widgets/controls",
     "model_name": "FloatProgressModel",
     "model_module_version": "1.5.0",
     "state": {
      "_dom_classes": [],
      "_model_module": "@jupyter-widgets/controls",
      "_model_module_version": "1.5.0",
      "_model_name": "FloatProgressModel",
      "_view_count": null,
      "_view_module": "@jupyter-widgets/controls",
      "_view_module_version": "1.5.0",
      "_view_name": "ProgressView",
      "bar_style": "success",
      "description": "",
      "description_tooltip": null,
      "layout": "IPY_MODEL_8820e465f209425e832092f4d34931aa",
      "max": 5001,
      "min": 0,
      "orientation": "horizontal",
      "style": "IPY_MODEL_37d1c628eafb4753a3aca24a78636375",
      "value": 5001
     }
    },
    "6e66bf7a6f654ed0ac7d8ae8ef569fc2": {
     "model_module": "@jupyter-widgets/controls",
     "model_name": "HTMLModel",
     "model_module_version": "1.5.0",
     "state": {
      "_dom_classes": [],
      "_model_module": "@jupyter-widgets/controls",
      "_model_module_version": "1.5.0",
      "_model_name": "HTMLModel",
      "_view_count": null,
      "_view_module": "@jupyter-widgets/controls",
      "_view_module_version": "1.5.0",
      "_view_name": "HTMLView",
      "description": "",
      "description_tooltip": null,
      "layout": "IPY_MODEL_0e0646484dec4d3593197e1122577c03",
      "placeholder": "​",
      "style": "IPY_MODEL_6d424effce2e418d86fa50934e7df4be",
      "value": " 5001/5001 [00:02&lt;00:00, 2704.96it/s]"
     }
    },
    "098377e3704f48f9af7d623a87504d5c": {
     "model_module": "@jupyter-widgets/base",
     "model_name": "LayoutModel",
     "model_module_version": "1.2.0",
     "state": {
      "_model_module": "@jupyter-widgets/base",
      "_model_module_version": "1.2.0",
      "_model_name": "LayoutModel",
      "_view_count": null,
      "_view_module": "@jupyter-widgets/base",
      "_view_module_version": "1.2.0",
      "_view_name": "LayoutView",
      "align_content": null,
      "align_items": null,
      "align_self": null,
      "border": null,
      "bottom": null,
      "display": null,
      "flex": null,
      "flex_flow": null,
      "grid_area": null,
      "grid_auto_columns": null,
      "grid_auto_flow": null,
      "grid_auto_rows": null,
      "grid_column": null,
      "grid_gap": null,
      "grid_row": null,
      "grid_template_areas": null,
      "grid_template_columns": null,
      "grid_template_rows": null,
      "height": null,
      "justify_content": null,
      "justify_items": null,
      "left": null,
      "margin": null,
      "max_height": null,
      "max_width": null,
      "min_height": null,
      "min_width": null,
      "object_fit": null,
      "object_position": null,
      "order": null,
      "overflow": null,
      "overflow_x": null,
      "overflow_y": null,
      "padding": null,
      "right": null,
      "top": null,
      "visibility": null,
      "width": null
     }
    },
    "262dbad80ae544548d955b44f2cb4e47": {
     "model_module": "@jupyter-widgets/base",
     "model_name": "LayoutModel",
     "model_module_version": "1.2.0",
     "state": {
      "_model_module": "@jupyter-widgets/base",
      "_model_module_version": "1.2.0",
      "_model_name": "LayoutModel",
      "_view_count": null,
      "_view_module": "@jupyter-widgets/base",
      "_view_module_version": "1.2.0",
      "_view_name": "LayoutView",
      "align_content": null,
      "align_items": null,
      "align_self": null,
      "border": null,
      "bottom": null,
      "display": null,
      "flex": null,
      "flex_flow": null,
      "grid_area": null,
      "grid_auto_columns": null,
      "grid_auto_flow": null,
      "grid_auto_rows": null,
      "grid_column": null,
      "grid_gap": null,
      "grid_row": null,
      "grid_template_areas": null,
      "grid_template_columns": null,
      "grid_template_rows": null,
      "height": null,
      "justify_content": null,
      "justify_items": null,
      "left": null,
      "margin": null,
      "max_height": null,
      "max_width": null,
      "min_height": null,
      "min_width": null,
      "object_fit": null,
      "object_position": null,
      "order": null,
      "overflow": null,
      "overflow_x": null,
      "overflow_y": null,
      "padding": null,
      "right": null,
      "top": null,
      "visibility": null,
      "width": null
     }
    },
    "a707c7f73c75406884d8062393199810": {
     "model_module": "@jupyter-widgets/controls",
     "model_name": "DescriptionStyleModel",
     "model_module_version": "1.5.0",
     "state": {
      "_model_module": "@jupyter-widgets/controls",
      "_model_module_version": "1.5.0",
      "_model_name": "DescriptionStyleModel",
      "_view_count": null,
      "_view_module": "@jupyter-widgets/base",
      "_view_module_version": "1.2.0",
      "_view_name": "StyleView",
      "description_width": ""
     }
    },
    "8820e465f209425e832092f4d34931aa": {
     "model_module": "@jupyter-widgets/base",
     "model_name": "LayoutModel",
     "model_module_version": "1.2.0",
     "state": {
      "_model_module": "@jupyter-widgets/base",
      "_model_module_version": "1.2.0",
      "_model_name": "LayoutModel",
      "_view_count": null,
      "_view_module": "@jupyter-widgets/base",
      "_view_module_version": "1.2.0",
      "_view_name": "LayoutView",
      "align_content": null,
      "align_items": null,
      "align_self": null,
      "border": null,
      "bottom": null,
      "display": null,
      "flex": null,
      "flex_flow": null,
      "grid_area": null,
      "grid_auto_columns": null,
      "grid_auto_flow": null,
      "grid_auto_rows": null,
      "grid_column": null,
      "grid_gap": null,
      "grid_row": null,
      "grid_template_areas": null,
      "grid_template_columns": null,
      "grid_template_rows": null,
      "height": null,
      "justify_content": null,
      "justify_items": null,
      "left": null,
      "margin": null,
      "max_height": null,
      "max_width": null,
      "min_height": null,
      "min_width": null,
      "object_fit": null,
      "object_position": null,
      "order": null,
      "overflow": null,
      "overflow_x": null,
      "overflow_y": null,
      "padding": null,
      "right": null,
      "top": null,
      "visibility": null,
      "width": null
     }
    },
    "37d1c628eafb4753a3aca24a78636375": {
     "model_module": "@jupyter-widgets/controls",
     "model_name": "ProgressStyleModel",
     "model_module_version": "1.5.0",
     "state": {
      "_model_module": "@jupyter-widgets/controls",
      "_model_module_version": "1.5.0",
      "_model_name": "ProgressStyleModel",
      "_view_count": null,
      "_view_module": "@jupyter-widgets/base",
      "_view_module_version": "1.2.0",
      "_view_name": "StyleView",
      "bar_color": null,
      "description_width": ""
     }
    },
    "0e0646484dec4d3593197e1122577c03": {
     "model_module": "@jupyter-widgets/base",
     "model_name": "LayoutModel",
     "model_module_version": "1.2.0",
     "state": {
      "_model_module": "@jupyter-widgets/base",
      "_model_module_version": "1.2.0",
      "_model_name": "LayoutModel",
      "_view_count": null,
      "_view_module": "@jupyter-widgets/base",
      "_view_module_version": "1.2.0",
      "_view_name": "LayoutView",
      "align_content": null,
      "align_items": null,
      "align_self": null,
      "border": null,
      "bottom": null,
      "display": null,
      "flex": null,
      "flex_flow": null,
      "grid_area": null,
      "grid_auto_columns": null,
      "grid_auto_flow": null,
      "grid_auto_rows": null,
      "grid_column": null,
      "grid_gap": null,
      "grid_row": null,
      "grid_template_areas": null,
      "grid_template_columns": null,
      "grid_template_rows": null,
      "height": null,
      "justify_content": null,
      "justify_items": null,
      "left": null,
      "margin": null,
      "max_height": null,
      "max_width": null,
      "min_height": null,
      "min_width": null,
      "object_fit": null,
      "object_position": null,
      "order": null,
      "overflow": null,
      "overflow_x": null,
      "overflow_y": null,
      "padding": null,
      "right": null,
      "top": null,
      "visibility": null,
      "width": null
     }
    },
    "6d424effce2e418d86fa50934e7df4be": {
     "model_module": "@jupyter-widgets/controls",
     "model_name": "DescriptionStyleModel",
     "model_module_version": "1.5.0",
     "state": {
      "_model_module": "@jupyter-widgets/controls",
      "_model_module_version": "1.5.0",
      "_model_name": "DescriptionStyleModel",
      "_view_count": null,
      "_view_module": "@jupyter-widgets/base",
      "_view_module_version": "1.2.0",
      "_view_name": "StyleView",
      "description_width": ""
     }
    },
    "f3c669771cee41ba9bc01bcd7190843c": {
     "model_module": "@jupyter-widgets/controls",
     "model_name": "HBoxModel",
     "model_module_version": "1.5.0",
     "state": {
      "_dom_classes": [],
      "_model_module": "@jupyter-widgets/controls",
      "_model_module_version": "1.5.0",
      "_model_name": "HBoxModel",
      "_view_count": null,
      "_view_module": "@jupyter-widgets/controls",
      "_view_module_version": "1.5.0",
      "_view_name": "HBoxView",
      "box_style": "",
      "children": [
       "IPY_MODEL_772f16012b96477fb348f83d14bb247f",
       "IPY_MODEL_11a9580580d0461cae52db39485ce6cd",
       "IPY_MODEL_92d2255e83cb4391a7c724da27e47c6c"
      ],
      "layout": "IPY_MODEL_0e45b7aea90f49acba1f0fd965242ee7"
     }
    },
    "772f16012b96477fb348f83d14bb247f": {
     "model_module": "@jupyter-widgets/controls",
     "model_name": "HTMLModel",
     "model_module_version": "1.5.0",
     "state": {
      "_dom_classes": [],
      "_model_module": "@jupyter-widgets/controls",
      "_model_module_version": "1.5.0",
      "_model_name": "HTMLModel",
      "_view_count": null,
      "_view_module": "@jupyter-widgets/controls",
      "_view_module_version": "1.5.0",
      "_view_name": "HTMLView",
      "description": "",
      "description_tooltip": null,
      "layout": "IPY_MODEL_54defa81630f4f31b7d69a16c5871fa4",
      "placeholder": "​",
      "style": "IPY_MODEL_406dfca8f7b04bb1acb572bc4c04bcc4",
      "value": "100%"
     }
    },
    "11a9580580d0461cae52db39485ce6cd": {
     "model_module": "@jupyter-widgets/controls",
     "model_name": "FloatProgressModel",
     "model_module_version": "1.5.0",
     "state": {
      "_dom_classes": [],
      "_model_module": "@jupyter-widgets/controls",
      "_model_module_version": "1.5.0",
      "_model_name": "FloatProgressModel",
      "_view_count": null,
      "_view_module": "@jupyter-widgets/controls",
      "_view_module_version": "1.5.0",
      "_view_name": "ProgressView",
      "bar_style": "danger",
      "description": "",
      "description_tooltip": null,
      "layout": "IPY_MODEL_3f9982da0c7c405883f2a4c69d82c1e9",
      "max": 5001,
      "min": 0,
      "orientation": "horizontal",
      "style": "IPY_MODEL_44bf58f012524502bc1923eca9693088",
      "value": 4998
     }
    },
    "92d2255e83cb4391a7c724da27e47c6c": {
     "model_module": "@jupyter-widgets/controls",
     "model_name": "HTMLModel",
     "model_module_version": "1.5.0",
     "state": {
      "_dom_classes": [],
      "_model_module": "@jupyter-widgets/controls",
      "_model_module_version": "1.5.0",
      "_model_name": "HTMLModel",
      "_view_count": null,
      "_view_module": "@jupyter-widgets/controls",
      "_view_module_version": "1.5.0",
      "_view_name": "HTMLView",
      "description": "",
      "description_tooltip": null,
      "layout": "IPY_MODEL_d83f3e60153e463ca591d6665eeb73ea",
      "placeholder": "​",
      "style": "IPY_MODEL_b8422c7361714250a7bc75523f036440",
      "value": " 4998/5001 [00:02&lt;00:00, 2202.29it/s]"
     }
    },
    "0e45b7aea90f49acba1f0fd965242ee7": {
     "model_module": "@jupyter-widgets/base",
     "model_name": "LayoutModel",
     "model_module_version": "1.2.0",
     "state": {
      "_model_module": "@jupyter-widgets/base",
      "_model_module_version": "1.2.0",
      "_model_name": "LayoutModel",
      "_view_count": null,
      "_view_module": "@jupyter-widgets/base",
      "_view_module_version": "1.2.0",
      "_view_name": "LayoutView",
      "align_content": null,
      "align_items": null,
      "align_self": null,
      "border": null,
      "bottom": null,
      "display": null,
      "flex": null,
      "flex_flow": null,
      "grid_area": null,
      "grid_auto_columns": null,
      "grid_auto_flow": null,
      "grid_auto_rows": null,
      "grid_column": null,
      "grid_gap": null,
      "grid_row": null,
      "grid_template_areas": null,
      "grid_template_columns": null,
      "grid_template_rows": null,
      "height": null,
      "justify_content": null,
      "justify_items": null,
      "left": null,
      "margin": null,
      "max_height": null,
      "max_width": null,
      "min_height": null,
      "min_width": null,
      "object_fit": null,
      "object_position": null,
      "order": null,
      "overflow": null,
      "overflow_x": null,
      "overflow_y": null,
      "padding": null,
      "right": null,
      "top": null,
      "visibility": null,
      "width": null
     }
    },
    "54defa81630f4f31b7d69a16c5871fa4": {
     "model_module": "@jupyter-widgets/base",
     "model_name": "LayoutModel",
     "model_module_version": "1.2.0",
     "state": {
      "_model_module": "@jupyter-widgets/base",
      "_model_module_version": "1.2.0",
      "_model_name": "LayoutModel",
      "_view_count": null,
      "_view_module": "@jupyter-widgets/base",
      "_view_module_version": "1.2.0",
      "_view_name": "LayoutView",
      "align_content": null,
      "align_items": null,
      "align_self": null,
      "border": null,
      "bottom": null,
      "display": null,
      "flex": null,
      "flex_flow": null,
      "grid_area": null,
      "grid_auto_columns": null,
      "grid_auto_flow": null,
      "grid_auto_rows": null,
      "grid_column": null,
      "grid_gap": null,
      "grid_row": null,
      "grid_template_areas": null,
      "grid_template_columns": null,
      "grid_template_rows": null,
      "height": null,
      "justify_content": null,
      "justify_items": null,
      "left": null,
      "margin": null,
      "max_height": null,
      "max_width": null,
      "min_height": null,
      "min_width": null,
      "object_fit": null,
      "object_position": null,
      "order": null,
      "overflow": null,
      "overflow_x": null,
      "overflow_y": null,
      "padding": null,
      "right": null,
      "top": null,
      "visibility": null,
      "width": null
     }
    },
    "406dfca8f7b04bb1acb572bc4c04bcc4": {
     "model_module": "@jupyter-widgets/controls",
     "model_name": "DescriptionStyleModel",
     "model_module_version": "1.5.0",
     "state": {
      "_model_module": "@jupyter-widgets/controls",
      "_model_module_version": "1.5.0",
      "_model_name": "DescriptionStyleModel",
      "_view_count": null,
      "_view_module": "@jupyter-widgets/base",
      "_view_module_version": "1.2.0",
      "_view_name": "StyleView",
      "description_width": ""
     }
    },
    "3f9982da0c7c405883f2a4c69d82c1e9": {
     "model_module": "@jupyter-widgets/base",
     "model_name": "LayoutModel",
     "model_module_version": "1.2.0",
     "state": {
      "_model_module": "@jupyter-widgets/base",
      "_model_module_version": "1.2.0",
      "_model_name": "LayoutModel",
      "_view_count": null,
      "_view_module": "@jupyter-widgets/base",
      "_view_module_version": "1.2.0",
      "_view_name": "LayoutView",
      "align_content": null,
      "align_items": null,
      "align_self": null,
      "border": null,
      "bottom": null,
      "display": null,
      "flex": null,
      "flex_flow": null,
      "grid_area": null,
      "grid_auto_columns": null,
      "grid_auto_flow": null,
      "grid_auto_rows": null,
      "grid_column": null,
      "grid_gap": null,
      "grid_row": null,
      "grid_template_areas": null,
      "grid_template_columns": null,
      "grid_template_rows": null,
      "height": null,
      "justify_content": null,
      "justify_items": null,
      "left": null,
      "margin": null,
      "max_height": null,
      "max_width": null,
      "min_height": null,
      "min_width": null,
      "object_fit": null,
      "object_position": null,
      "order": null,
      "overflow": null,
      "overflow_x": null,
      "overflow_y": null,
      "padding": null,
      "right": null,
      "top": null,
      "visibility": null,
      "width": null
     }
    },
    "44bf58f012524502bc1923eca9693088": {
     "model_module": "@jupyter-widgets/controls",
     "model_name": "ProgressStyleModel",
     "model_module_version": "1.5.0",
     "state": {
      "_model_module": "@jupyter-widgets/controls",
      "_model_module_version": "1.5.0",
      "_model_name": "ProgressStyleModel",
      "_view_count": null,
      "_view_module": "@jupyter-widgets/base",
      "_view_module_version": "1.2.0",
      "_view_name": "StyleView",
      "bar_color": null,
      "description_width": ""
     }
    },
    "d83f3e60153e463ca591d6665eeb73ea": {
     "model_module": "@jupyter-widgets/base",
     "model_name": "LayoutModel",
     "model_module_version": "1.2.0",
     "state": {
      "_model_module": "@jupyter-widgets/base",
      "_model_module_version": "1.2.0",
      "_model_name": "LayoutModel",
      "_view_count": null,
      "_view_module": "@jupyter-widgets/base",
      "_view_module_version": "1.2.0",
      "_view_name": "LayoutView",
      "align_content": null,
      "align_items": null,
      "align_self": null,
      "border": null,
      "bottom": null,
      "display": null,
      "flex": null,
      "flex_flow": null,
      "grid_area": null,
      "grid_auto_columns": null,
      "grid_auto_flow": null,
      "grid_auto_rows": null,
      "grid_column": null,
      "grid_gap": null,
      "grid_row": null,
      "grid_template_areas": null,
      "grid_template_columns": null,
      "grid_template_rows": null,
      "height": null,
      "justify_content": null,
      "justify_items": null,
      "left": null,
      "margin": null,
      "max_height": null,
      "max_width": null,
      "min_height": null,
      "min_width": null,
      "object_fit": null,
      "object_position": null,
      "order": null,
      "overflow": null,
      "overflow_x": null,
      "overflow_y": null,
      "padding": null,
      "right": null,
      "top": null,
      "visibility": null,
      "width": null
     }
    },
    "b8422c7361714250a7bc75523f036440": {
     "model_module": "@jupyter-widgets/controls",
     "model_name": "DescriptionStyleModel",
     "model_module_version": "1.5.0",
     "state": {
      "_model_module": "@jupyter-widgets/controls",
      "_model_module_version": "1.5.0",
      "_model_name": "DescriptionStyleModel",
      "_view_count": null,
      "_view_module": "@jupyter-widgets/base",
      "_view_module_version": "1.2.0",
      "_view_name": "StyleView",
      "description_width": ""
     }
    }
   }
  }
 },
 "nbformat": 4,
 "nbformat_minor": 0
}